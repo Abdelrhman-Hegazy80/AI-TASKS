{
 "cells": [
  {
   "cell_type": "code",
   "execution_count": 1,
   "id": "8064ba92",
   "metadata": {
    "ExecuteTime": {
     "end_time": "2022-09-06T16:31:49.136995Z",
     "start_time": "2022-09-06T16:31:17.703254Z"
    }
   },
   "outputs": [
    {
     "data": {
      "text/plain": [
       "'D:\\\\ai\\\\الشيخ مصطفى اسماعيل تلاوة من سورة القصص رائعة جدا (ولما ورد ماء مدين ) مدارس التلاوة للقران الكريم.mp4'"
      ]
     },
     "execution_count": 1,
     "metadata": {},
     "output_type": "execute_result"
    }
   ],
   "source": [
    "from pytube import YouTube\n",
    "video_url = 'https://www.youtube.com/watch?v=qN7TlobjSPE'\n",
    "video_name = ''     \n",
    "download_path = ''  \n",
    "src = YouTube(video_url)\n",
    "stream = src.streams.filter(res='720p')\n",
    "stream = src.streams.get_highest_resolution()\n",
    "# Select path or download in current one\n",
    "stream.download(output_path=download_path)\n",
    "stream.download()\n",
    "# Select video name or download default name used on YouTube\n",
    "stream.download(filename=video_name)\n",
    "stream.download()\n"
   ]
  }
 ],
 "metadata": {
  "kernelspec": {
   "display_name": "Python 3 (ipykernel)",
   "language": "python",
   "name": "python3"
  },
  "language_info": {
   "codemirror_mode": {
    "name": "ipython",
    "version": 3
   },
   "file_extension": ".py",
   "mimetype": "text/x-python",
   "name": "python",
   "nbconvert_exporter": "python",
   "pygments_lexer": "ipython3",
   "version": "3.9.12"
  }
 },
 "nbformat": 4,
 "nbformat_minor": 5
}
