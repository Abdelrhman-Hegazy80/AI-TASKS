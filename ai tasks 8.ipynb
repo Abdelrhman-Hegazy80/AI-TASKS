{
 "cells": [
  {
   "cell_type": "code",
   "execution_count": 1,
   "id": "7e7a7ca5",
   "metadata": {
    "ExecuteTime": {
     "end_time": "2022-08-31T16:17:09.028057Z",
     "start_time": "2022-08-31T16:17:09.008072Z"
    }
   },
   "outputs": [],
   "source": [
    "import re\n"
   ]
  },
  {
   "cell_type": "code",
   "execution_count": 2,
   "id": "06c65ae8",
   "metadata": {
    "ExecuteTime": {
     "end_time": "2022-08-31T16:17:09.042050Z",
     "start_time": "2022-08-31T16:17:09.034054Z"
    }
   },
   "outputs": [],
   "source": [
    "text_to_search =''' Ahmed mohamed hegazy ahmed234@gmail.com 010_9876_5432\n",
    "salah ahmed shaker salah678@gmail.com 011_2345_6789\n",
    "ramy omar elsayed ramy890@yahoo.com 015_2345_6789'''\n"
   ]
  },
  {
   "cell_type": "code",
   "execution_count": 3,
   "id": "d0e24ada",
   "metadata": {
    "ExecuteTime": {
     "end_time": "2022-08-31T16:17:09.064036Z",
     "start_time": "2022-08-31T16:17:09.049045Z"
    }
   },
   "outputs": [
    {
     "name": "stdout",
     "output_type": "stream",
     "text": [
      "<re.Match object; span=(22, 40), match='ahmed234@gmail.com'>\n",
      "<re.Match object; span=(74, 92), match='salah678@gmail.com'>\n",
      "<re.Match object; span=(125, 142), match='ramy890@yahoo.com'>\n"
     ]
    }
   ],
   "source": [
    "import re \n",
    "pattern1=re.compile(r\"[A-z0-9\\.]+@[A-z0-9]+\\.com|net\")\n",
    "matches1=pattern1.finditer(text_to_search) \n",
    "for match in matches1:\n",
    "    print (match)"
   ]
  },
  {
   "cell_type": "code",
   "execution_count": 5,
   "id": "6eea340d",
   "metadata": {
    "ExecuteTime": {
     "end_time": "2022-08-31T16:17:33.080652Z",
     "start_time": "2022-08-31T16:17:33.070661Z"
    }
   },
   "outputs": [
    {
     "name": "stdout",
     "output_type": "stream",
     "text": [
      "<re.Match object; span=(41, 54), match='010_9876_5432'>\n",
      "<re.Match object; span=(93, 106), match='011_2345_6789'>\n",
      "<re.Match object; span=(143, 156), match='015_2345_6789'>\n"
     ]
    }
   ],
   "source": [
    "import re \n",
    "pattern2=re.compile(r\"\\d{3}_\\d{4}_\\d{4}\")\n",
    "matches2=pattern2.finditer(text_to_search)\n",
    "for match in matches2:\n",
    "    print(match)"
   ]
  },
  {
   "cell_type": "code",
   "execution_count": 16,
   "id": "26d58275",
   "metadata": {
    "ExecuteTime": {
     "end_time": "2022-08-31T16:48:26.564952Z",
     "start_time": "2022-08-31T16:48:26.553956Z"
    }
   },
   "outputs": [
    {
     "name": "stdout",
     "output_type": "stream",
     "text": [
      "<re.Match object; span=(1, 22), match='Ahmed mohamed hegazy '>\n",
      "<re.Match object; span=(55, 74), match='salah ahmed shaker '>\n",
      "<re.Match object; span=(107, 125), match='ramy omar elsayed '>\n"
     ]
    }
   ],
   "source": [
    "import re \n",
    "patternn=re.compile(r\"[a-zA-Z]+\\s[a-zA-Z]+\\s[a-zA-Z]+\\s\")\n",
    "matches3=patternn.finditer(text_to_search)\n",
    "for match in matches3:\n",
    "    print(match)"
   ]
  }
 ],
 "metadata": {
  "kernelspec": {
   "display_name": "Python 3 (ipykernel)",
   "language": "python",
   "name": "python3"
  },
  "language_info": {
   "codemirror_mode": {
    "name": "ipython",
    "version": 3
   },
   "file_extension": ".py",
   "mimetype": "text/x-python",
   "name": "python",
   "nbconvert_exporter": "python",
   "pygments_lexer": "ipython3",
   "version": "3.9.12"
  }
 },
 "nbformat": 4,
 "nbformat_minor": 5
}
