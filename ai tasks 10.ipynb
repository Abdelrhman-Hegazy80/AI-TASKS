{
 "cells": [
  {
   "cell_type": "code",
   "execution_count": null,
   "id": "2c2ee126",
   "metadata": {
    "ExecuteTime": {
     "end_time": "2022-09-16T12:31:43.779314Z",
     "start_time": "2022-09-16T12:31:43.779314Z"
    }
   },
   "outputs": [],
   "source": [
    "import requests\n",
    "from bs4 import BeautifulSoup\n",
    "import csv\n",
    "import re\n",
    "\n",
    "url= \"https://www.imdb.com/chart/top/\"\n",
    "r=requests.get(url)\n",
    "soup= BeautifulSoup(r.text,'lxml')\n",
    "\n",
    "csvfile = open ('IMDb_Top250.csv', 'w', encoding='utf-8') # 'w' = write into the file\n",
    "writer = csv.writer(csvfile) # import csv\n",
    "writer.writerow(['Movie Rank', 'Movie Name','Year','Rating'])\n",
    "List = soup.find('tbody',class_='lister-list')\n",
    "Movies=List.find_all('tr')\n",
    "\n",
    "for i in Movies :\n",
    "    Num = i.find('td', class_ ='titleColumn').text\n",
    "    Rank = re.findall(r'\\d+', Num)\n",
    "    Year = i.find('td', class_ ='titleColumn').span.text\n",
    "    Name = i.find('td', class_ ='titleColumn').a.text\n",
    "    Rating = i.find('td', class_='ratingColumn imdbRating').strong.text\n",
    "        \n",
    "    writer.writerow([Rank[0],Name,Year,Rating])    \n",
    "        \n",
    "csvfile.close()"
   ]
  }
 ],
 "metadata": {
  "kernelspec": {
   "display_name": "Python 3 (ipykernel)",
   "language": "python",
   "name": "python3"
  },
  "language_info": {
   "codemirror_mode": {
    "name": "ipython",
    "version": 3
   },
   "file_extension": ".py",
   "mimetype": "text/x-python",
   "name": "python",
   "nbconvert_exporter": "python",
   "pygments_lexer": "ipython3",
   "version": "3.9.12"
  }
 },
 "nbformat": 4,
 "nbformat_minor": 5
}
