{
 "cells": [
  {
   "cell_type": "code",
   "execution_count": 18,
   "id": "c1ad02aa",
   "metadata": {
    "ExecuteTime": {
     "end_time": "2022-08-06T18:04:06.632814Z",
     "start_time": "2022-08-06T18:04:06.620824Z"
    }
   },
   "outputs": [
    {
     "name": "stdout",
     "output_type": "stream",
     "text": [
      "1505\n",
      "1540\n",
      "1575\n",
      "1610\n",
      "1645\n",
      "1680\n",
      "1715\n",
      "1750\n",
      "1785\n",
      "1820\n",
      "1855\n",
      "1890\n",
      "1925\n",
      "1960\n",
      "1995\n",
      "2030\n",
      "2065\n",
      "2100\n",
      "2135\n",
      "2170\n",
      "2205\n",
      "2240\n",
      "2275\n",
      "2310\n",
      "2345\n",
      "2380\n",
      "2415\n",
      "2450\n",
      "2485\n",
      "2520\n",
      "2555\n",
      "2590\n",
      "2625\n",
      "2660\n",
      "2695\n"
     ]
    }
   ],
   "source": [
    "#Q1\n",
    "for i in range (1500,2700):\n",
    "    if (i%35==0):\n",
    "        print(i)\n",
    "        \n",
    "\n"
   ]
  },
  {
   "cell_type": "code",
   "execution_count": 21,
   "id": "eae1bba1",
   "metadata": {
    "ExecuteTime": {
     "end_time": "2022-08-07T22:50:59.496262Z",
     "start_time": "2022-08-07T22:50:53.601150Z"
    }
   },
   "outputs": [
    {
     "name": "stdout",
     "output_type": "stream",
     "text": [
      "Please enter temperature in fahrenheit:86\n",
      "Temperature in celsius is : 30.0\n",
      "Please enter temperature in celsius : 30\n",
      "Temperature in fahrenheit is : 86.0\n"
     ]
    }
   ],
   "source": [
    "#Q2\n",
    "\n",
    "f=float(input(\"Please enter temperature in fahrenheit:\"))\n",
    "c=(f-32)*5/9\n",
    "print(\"Temperature in celsius is :\",c)\n",
    "\n",
    "c=float(input(\"Please enter temperature in celsius : \"))\n",
    "f=c*9/5 +32\n",
    "print(\"Temperature in fahrenheit is :\",f)\n",
    "\n"
   ]
  },
  {
   "cell_type": "code",
   "execution_count": 22,
   "id": "dafe27f6",
   "metadata": {
    "ExecuteTime": {
     "end_time": "2022-08-07T22:55:24.693818Z",
     "start_time": "2022-08-07T22:55:24.624394Z"
    }
   },
   "outputs": [
    {
     "name": "stdout",
     "output_type": "stream",
     "text": [
      "* \n",
      "* * \n",
      "* * * \n",
      "* * * * \n",
      "* * * * * \n",
      "* * * * \n",
      "* * * \n",
      "* * \n",
      "* \n"
     ]
    }
   ],
   "source": [
    "#Q3\n",
    "\n",
    "counter = 0\n",
    "for i in range(1,10):\n",
    "    if(i<=5):\n",
    "        for j in range(0,i):\n",
    "            print(\"* \", end=\"\")\n",
    "    else:\n",
    "        for k in range(i,10):\n",
    "            print(\"* \", end=\"\")\n",
    "    print(\"\")"
   ]
  },
  {
   "cell_type": "code",
   "execution_count": 23,
   "id": "a9b49a27",
   "metadata": {
    "ExecuteTime": {
     "end_time": "2022-08-07T22:59:45.597714Z",
     "start_time": "2022-08-07T22:59:40.905061Z"
    }
   },
   "outputs": [
    {
     "name": "stdout",
     "output_type": "stream",
     "text": [
      "Word : abdo\n",
      "Reversed Word : odba\n"
     ]
    }
   ],
   "source": [
    "#Q4\n",
    "\n",
    "word = input(\"Word : \")\n",
    "reversed_word =''.join(reversed(word))\n",
    "print(\"Reversed Word :\",reversed_word)"
   ]
  },
  {
   "cell_type": "code",
   "execution_count": 26,
   "id": "b57d1a1e",
   "metadata": {
    "ExecuteTime": {
     "end_time": "2022-08-07T23:02:35.489968Z",
     "start_time": "2022-08-07T23:02:23.178794Z"
    }
   },
   "outputs": [
    {
     "name": "stdout",
     "output_type": "stream",
     "text": [
      "Enter first number : 5\n",
      "Enter second number : 7\n",
      "Enter third number : 9\n",
      "Max number = 9\n"
     ]
    }
   ],
   "source": [
    "#Q5\n",
    "N1=int(input(\"Enter first number : \"))\n",
    "N2=int(input(\"Enter second number : \"))\n",
    "N3=int(input(\"Enter third number : \"))\n",
    "def max_number(n1,n2,n3):\n",
    "    if(n1>n2 and n1>n3):\n",
    "        return n1\n",
    "    elif(n2>n1 and n2>n3):\n",
    "        return n2\n",
    "    else:\n",
    "        return n3\n",
    "        \n",
    "print(\"Max number =\",max_number(N1,N2,N3))"
   ]
  },
  {
   "cell_type": "code",
   "execution_count": 38,
   "id": "fc72be58",
   "metadata": {
    "ExecuteTime": {
     "end_time": "2022-08-07T23:18:35.669003Z",
     "start_time": "2022-08-07T23:18:28.443818Z"
    }
   },
   "outputs": [
    {
     "name": "stdout",
     "output_type": "stream",
     "text": [
      "Enter a number :10\n",
      "Enter a number :20\n",
      "Enter a number :30\n",
      "The summation of numbers = 60\n"
     ]
    }
   ],
   "source": [
    "#Q6\n",
    "\n",
    "numbers=[]\n",
    "def summation():\n",
    "    sum=0\n",
    "    for i in range(3):\n",
    "        numbers.append( int(input(\"Enter a number :\")) )\n",
    "        sum = sum + numbers.pop(0)\n",
    "    return sum  \n",
    "\n",
    "print(\"The summation of numbers =\",summation())\n"
   ]
  },
  {
   "cell_type": "code",
   "execution_count": 27,
   "id": "2a94f4e6",
   "metadata": {
    "ExecuteTime": {
     "end_time": "2022-08-07T23:06:14.456468Z",
     "start_time": "2022-08-07T23:06:14.448473Z"
    }
   },
   "outputs": [
    {
     "name": "stdout",
     "output_type": "stream",
     "text": [
      "0\n",
      "1\n",
      "2\n",
      "4\n",
      "5\n"
     ]
    }
   ],
   "source": [
    "#Q7\n",
    "for i in range(0,7):\n",
    "    if(i==3 or i==6):\n",
    "        continue\n",
    "    print(i)"
   ]
  },
  {
   "cell_type": "code",
   "execution_count": 34,
   "id": "187b66e7",
   "metadata": {
    "ExecuteTime": {
     "end_time": "2022-08-07T23:10:24.711575Z",
     "start_time": "2022-08-07T23:10:24.700582Z"
    }
   },
   "outputs": [
    {
     "data": {
      "text/plain": [
       "3628800"
      ]
     },
     "execution_count": 34,
     "metadata": {},
     "output_type": "execute_result"
    }
   ],
   "source": [
    "#Q8\n",
    "def factorial(n):\n",
    "    if(n>=1):\n",
    "        return n*factorial(n-1)\n",
    "    else:\n",
    "        return 1\n",
    "\n",
    "factorial(10) \n"
   ]
  },
  {
   "cell_type": "code",
   "execution_count": 36,
   "id": "e66bbc94",
   "metadata": {
    "ExecuteTime": {
     "end_time": "2022-08-07T23:15:41.890019Z",
     "start_time": "2022-08-07T23:15:41.881026Z"
    }
   },
   "outputs": [
    {
     "name": "stdout",
     "output_type": "stream",
     "text": [
      "[1, 2, 3, 4, 5, 6]\n"
     ]
    }
   ],
   "source": [
    "#Q9\n",
    "\n",
    "def unique(l):\n",
    "    n = []\n",
    "    for i in l:\n",
    "        if i not in n:\n",
    "            n.append(i)\n",
    "    return n\n",
    "\n",
    "print(unique([1,2,2,2,3,3,4,5,4,6,5,6]))"
   ]
  },
  {
   "cell_type": "code",
   "execution_count": 37,
   "id": "197a03bb",
   "metadata": {
    "ExecuteTime": {
     "end_time": "2022-08-07T23:17:40.391759Z",
     "start_time": "2022-08-07T23:17:40.383764Z"
    }
   },
   "outputs": [
    {
     "name": "stdout",
     "output_type": "stream",
     "text": [
      "25\n",
      "63\n"
     ]
    }
   ],
   "source": [
    "#Q10\n",
    "\n",
    "add_15= lambda x: x+15\n",
    "print(add_15(10))\n",
    "\n",
    "multiply = lambda x,y: x*y\n",
    "print(multiply(7,9))"
   ]
  },
  {
   "cell_type": "code",
   "execution_count": null,
   "id": "354b11d7",
   "metadata": {},
   "outputs": [],
   "source": []
  }
 ],
 "metadata": {
  "kernelspec": {
   "display_name": "Python 3 (ipykernel)",
   "language": "python",
   "name": "python3"
  },
  "language_info": {
   "codemirror_mode": {
    "name": "ipython",
    "version": 3
   },
   "file_extension": ".py",
   "mimetype": "text/x-python",
   "name": "python",
   "nbconvert_exporter": "python",
   "pygments_lexer": "ipython3",
   "version": "3.9.12"
  }
 },
 "nbformat": 4,
 "nbformat_minor": 5
}
