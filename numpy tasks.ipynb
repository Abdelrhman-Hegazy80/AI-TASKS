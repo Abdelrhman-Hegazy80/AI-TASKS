{
 "cells": [
  {
   "cell_type": "code",
   "execution_count": 10,
   "id": "2bf5dff7",
   "metadata": {
    "ExecuteTime": {
     "end_time": "2022-10-06T15:37:56.451938Z",
     "start_time": "2022-10-06T15:37:56.442944Z"
    }
   },
   "outputs": [
    {
     "name": "stdout",
     "output_type": "stream",
     "text": [
      "[  1   3   7 105]\n",
      "Size of the memory occupied by the said array=\n",
      "16 bytes\n"
     ]
    }
   ],
   "source": [
    "# W3resource\n",
    "# basic numpy\n",
    "# Q12\n",
    "\n",
    "import numpy as np\n",
    "a=np.array([1, 3, 7, 105])\n",
    "print(a)\n",
    "print(\"Size of the memory occupied by the said array=\")\n",
    "print(\"%d bytes\" % (a.size * a.itemsize))\n"
   ]
  },
  {
   "cell_type": "code",
   "execution_count": 13,
   "id": "871149f8",
   "metadata": {
    "ExecuteTime": {
     "end_time": "2022-10-06T15:43:34.054583Z",
     "start_time": "2022-10-06T15:43:34.042592Z"
    }
   },
   "outputs": [
    {
     "name": "stdout",
     "output_type": "stream",
     "text": [
      "An array of 10 zeros:\n",
      "[0. 0. 0. 0. 0. 0. 0. 0. 0. 0.]\n",
      "An array of 10 ones:\n",
      "[1. 1. 1. 1. 1. 1. 1. 1. 1. 1.]\n",
      "An array of 10 fives:\n",
      "[5. 5. 5. 5. 5. 5. 5. 5. 5. 5.]\n"
     ]
    }
   ],
   "source": [
    "# Q13\n",
    "\n",
    "import numpy as np\n",
    "array=np.zeros(10)\n",
    "print(\"An array of 10 zeros:\")\n",
    "print(array)\n",
    "array=np.ones(10)\n",
    "print(\"An array of 10 ones:\")\n",
    "print(array)\n",
    "array=np.ones(10)*5\n",
    "print(\"An array of 10 fives:\")\n",
    "print(array)"
   ]
  },
  {
   "cell_type": "code",
   "execution_count": 14,
   "id": "b4abceaa",
   "metadata": {
    "ExecuteTime": {
     "end_time": "2022-10-06T15:45:14.905473Z",
     "start_time": "2022-10-06T15:45:14.896481Z"
    }
   },
   "outputs": [
    {
     "name": "stdout",
     "output_type": "stream",
     "text": [
      "Array of the integers from 30 to70 =\n",
      "[30 31 32 33 34 35 36 37 38 39 40 41 42 43 44 45 46 47 48 49 50 51 52 53\n",
      " 54 55 56 57 58 59 60 61 62 63 64 65 66 67 68 69 70]\n"
     ]
    }
   ],
   "source": [
    "# Q14\n",
    "\n",
    "import numpy as np\n",
    "array=np.arange(30,71)\n",
    "print(\"Array of the integers from 30 to70 =\")\n",
    "print(array)"
   ]
  },
  {
   "cell_type": "code",
   "execution_count": 15,
   "id": "a94fcd4d",
   "metadata": {
    "ExecuteTime": {
     "end_time": "2022-10-06T15:47:13.654777Z",
     "start_time": "2022-10-06T15:47:13.584384Z"
    }
   },
   "outputs": [
    {
     "name": "stdout",
     "output_type": "stream",
     "text": [
      "Array of all the even integers from 30 to 70 =\n",
      "[30 32 34 36 38 40 42 44 46 48 50 52 54 56 58 60 62 64 66 68 70]\n"
     ]
    }
   ],
   "source": [
    "# Q15\n",
    "\n",
    "import numpy as np\n",
    "array=np.arange(30,71,2)\n",
    "print(\"Array of all the even integers from 30 to 70 =\")\n",
    "print(array) "
   ]
  },
  {
   "cell_type": "code",
   "execution_count": 16,
   "id": "2fc6c3d3",
   "metadata": {
    "ExecuteTime": {
     "end_time": "2022-10-06T15:48:58.965457Z",
     "start_time": "2022-10-06T15:48:58.958460Z"
    }
   },
   "outputs": [
    {
     "name": "stdout",
     "output_type": "stream",
     "text": [
      "[[1. 0. 0.]\n",
      " [0. 1. 0.]\n",
      " [0. 0. 1.]]\n"
     ]
    }
   ],
   "source": [
    "# Q16\n",
    "\n",
    "import numpy as np\n",
    "print(np.eye(3))"
   ]
  },
  {
   "cell_type": "code",
   "execution_count": 23,
   "id": "29ddc5ae",
   "metadata": {
    "ExecuteTime": {
     "end_time": "2022-10-06T15:53:26.732452Z",
     "start_time": "2022-10-06T15:53:26.724458Z"
    }
   },
   "outputs": [
    {
     "name": "stdout",
     "output_type": "stream",
     "text": [
      "Random number between 0 and 1=\n",
      "[0.60031717]\n"
     ]
    }
   ],
   "source": [
    "# Q17\n",
    "\n",
    "import numpy as np\n",
    "X = np.random.normal(0,1,1)\n",
    "print(\"Random number between 0 and 1=\")\n",
    "print(X)"
   ]
  },
  {
   "cell_type": "code",
   "execution_count": 24,
   "id": "5f272d22",
   "metadata": {
    "ExecuteTime": {
     "end_time": "2022-10-06T15:59:16.417266Z",
     "start_time": "2022-10-06T15:59:16.392278Z"
    }
   },
   "outputs": [
    {
     "name": "stdout",
     "output_type": "stream",
     "text": [
      "15 random numbers from a standard normal distribution=\n",
      "[ 0.06678326 -0.41758681  0.87365412 -1.22981319 -0.36109621  0.47577308\n",
      "  0.40390157  0.32477934 -0.54165531 -0.33336665 -1.30592235 -0.25226882\n",
      " -1.05658145 -1.3016691   0.2981026 ]\n"
     ]
    }
   ],
   "source": [
    "# Q18\n",
    "\n",
    "import numpy as np\n",
    "x= np.random.normal(0,1,15)\n",
    "print(\"15 random numbers from a standard normal distribution=\")\n",
    "print(x)"
   ]
  },
  {
   "cell_type": "code",
   "execution_count": 28,
   "id": "cd359368",
   "metadata": {
    "ExecuteTime": {
     "end_time": "2022-10-06T16:03:34.748512Z",
     "start_time": "2022-10-06T16:03:34.740516Z"
    }
   },
   "outputs": [
    {
     "name": "stdout",
     "output_type": "stream",
     "text": [
      "[16 17 18 19 20 21 22 23 24 25 26 27 28 29 30 31 32 33 34 35 36 37 38 39\n",
      " 40 41 42 43 44 45 46 47 48 49 50 51 52 53]\n"
     ]
    }
   ],
   "source": [
    "# Q19\n",
    "\n",
    "import numpy as np\n",
    "x=np.arange(15,55)\n",
    "print(x[1:-1])"
   ]
  },
  {
   "cell_type": "code",
   "execution_count": 29,
   "id": "72d10037",
   "metadata": {
    "ExecuteTime": {
     "end_time": "2022-10-06T16:06:40.575574Z",
     "start_time": "2022-10-06T16:06:40.565579Z"
    }
   },
   "outputs": [
    {
     "name": "stdout",
     "output_type": "stream",
     "text": [
      "[[ 0  1  2  3]\n",
      " [ 4  5  6  7]\n",
      " [ 8  9 10 11]]\n"
     ]
    }
   ],
   "source": [
    "# Q20\n",
    "\n",
    "import numpy as np\n",
    "x=np.arange(0,12)\n",
    "y=x.reshape((3,4))\n",
    "print(y)"
   ]
  },
  {
   "cell_type": "code",
   "execution_count": 33,
   "id": "69bd6b52",
   "metadata": {
    "ExecuteTime": {
     "end_time": "2022-10-06T16:11:40.069062Z",
     "start_time": "2022-10-06T16:11:40.061065Z"
    }
   },
   "outputs": [
    {
     "name": "stdout",
     "output_type": "stream",
     "text": [
      "[ 5. 10. 15. 20. 25. 30. 35. 40. 45. 50.]\n"
     ]
    }
   ],
   "source": [
    "# Q21\n",
    "\n",
    "\n",
    "import numpy as np\n",
    "x=np.linspace(5,50,10)\n",
    "print(x)"
   ]
  },
  {
   "cell_type": "code",
   "execution_count": 34,
   "id": "23f64836",
   "metadata": {
    "ExecuteTime": {
     "end_time": "2022-10-06T16:31:06.455599Z",
     "start_time": "2022-10-06T16:31:06.407423Z"
    }
   },
   "outputs": [
    {
     "name": "stdout",
     "output_type": "stream",
     "text": [
      "1.21.5\n"
     ]
    }
   ],
   "source": [
    "# numpy array\n",
    "# Q1\n",
    "\n",
    "import numpy as np\n",
    "print(np.__version__)"
   ]
  },
  {
   "cell_type": "code",
   "execution_count": 35,
   "id": "dc9d3988",
   "metadata": {
    "ExecuteTime": {
     "end_time": "2022-10-06T16:32:48.735304Z",
     "start_time": "2022-10-06T16:32:48.555798Z"
    }
   },
   "outputs": [
    {
     "name": "stdout",
     "output_type": "stream",
     "text": [
      "Original List= [12.23, 13.32, 100, 36.32]\n",
      "One-dimensional NumPy array=  [ 12.23  13.32 100.    36.32]\n"
     ]
    }
   ],
   "source": [
    "# Q2\n",
    "\n",
    "import numpy as np\n",
    "l = [12.23, 13.32, 100, 36.32]\n",
    "print(\"Original List=\",l)\n",
    "a = np.array(l)\n",
    "print(\"One-dimensional NumPy array= \",a)"
   ]
  },
  {
   "cell_type": "code",
   "execution_count": 36,
   "id": "4ee68de3",
   "metadata": {
    "ExecuteTime": {
     "end_time": "2022-10-06T16:34:45.043806Z",
     "start_time": "2022-10-06T16:34:44.927888Z"
    }
   },
   "outputs": [
    {
     "name": "stdout",
     "output_type": "stream",
     "text": [
      "[[ 2  3  4]\n",
      " [ 5  6  7]\n",
      " [ 8  9 10]]\n"
     ]
    }
   ],
   "source": [
    "# Q3\n",
    "\n",
    "import numpy as np\n",
    "x =  np.arange(2, 11)\n",
    "Y=x.reshape(3,3)\n",
    "print(Y)"
   ]
  },
  {
   "cell_type": "code",
   "execution_count": 37,
   "id": "d8fe9718",
   "metadata": {
    "ExecuteTime": {
     "end_time": "2022-10-06T16:36:44.565353Z",
     "start_time": "2022-10-06T16:36:44.495398Z"
    }
   },
   "outputs": [
    {
     "name": "stdout",
     "output_type": "stream",
     "text": [
      "[0. 0. 0. 0. 0. 0. 0. 0. 0. 0.]\n",
      "Update sixth value to 11\n",
      "[ 0.  0.  0.  0.  0.  0. 11.  0.  0.  0.]\n"
     ]
    }
   ],
   "source": [
    "# Q4\n",
    "\n",
    "\n",
    "import numpy as np\n",
    "x = np.zeros(10)\n",
    "print(x)\n",
    "print(\"Update sixth value to 11\")\n",
    "x[6] = 11\n",
    "print(x)"
   ]
  },
  {
   "cell_type": "code",
   "execution_count": 38,
   "id": "d75e87f0",
   "metadata": {
    "ExecuteTime": {
     "end_time": "2022-10-06T16:38:18.223434Z",
     "start_time": "2022-10-06T16:38:18.216438Z"
    }
   },
   "outputs": [
    {
     "name": "stdout",
     "output_type": "stream",
     "text": [
      "[12 13 14 15 16 17 18 19 20 21 22 23 24 25 26 27 28 29 30 31 32 33 34 35\n",
      " 36 37]\n"
     ]
    }
   ],
   "source": [
    "# Q5\n",
    "\n",
    "import numpy as np\n",
    "x = np.arange(12, 38)\n",
    "print(x)"
   ]
  },
  {
   "cell_type": "code",
   "execution_count": 44,
   "id": "0ffe7054",
   "metadata": {
    "ExecuteTime": {
     "end_time": "2022-10-06T16:41:18.220543Z",
     "start_time": "2022-10-06T16:41:18.211547Z"
    }
   },
   "outputs": [
    {
     "name": "stdout",
     "output_type": "stream",
     "text": [
      "[12 13 14 15 16 17 18 19 20 21 22 23 24 25 26 27 28 29 30 31 32 33 34 35\n",
      " 36 37]\n",
      "Reverse array:\n",
      "[37 36 35 34 33 32 31 30 29 28 27 26 25 24 23 22 21 20 19 18 17 16 15 14\n",
      " 13 12]\n"
     ]
    }
   ],
   "source": [
    "# Q6\n",
    "\n",
    "import numpy as np\n",
    "import numpy as np\n",
    "x = np.arange(12, 38)\n",
    "print(x)\n",
    "print(\"Reverse array:\")\n",
    "x = x[::-1]\n",
    "print(x)"
   ]
  },
  {
   "cell_type": "code",
   "execution_count": 45,
   "id": "5bc1cae6",
   "metadata": {
    "ExecuteTime": {
     "end_time": "2022-10-06T16:43:32.043585Z",
     "start_time": "2022-10-06T16:43:31.911582Z"
    }
   },
   "outputs": [
    {
     "name": "stdout",
     "output_type": "stream",
     "text": [
      "[1, 2, 3, 4]\n",
      "Array converted to a float type=\n",
      "[1. 2. 3. 4.]\n"
     ]
    }
   ],
   "source": [
    "# Q7\n",
    "\n",
    "import numpy as np\n",
    "a = [1, 2, 3, 4]\n",
    "print(a)\n",
    "x = np.asfarray(a)\n",
    "print(\"Array converted to a float type=\")\n",
    "print(x)"
   ]
  },
  {
   "cell_type": "code",
   "execution_count": 46,
   "id": "8758de8d",
   "metadata": {
    "ExecuteTime": {
     "end_time": "2022-10-06T16:47:52.783816Z",
     "start_time": "2022-10-06T16:47:52.700335Z"
    }
   },
   "outputs": [
    {
     "name": "stdout",
     "output_type": "stream",
     "text": [
      "[[1. 1. 1. 1. 1.]\n",
      " [1. 0. 0. 0. 1.]\n",
      " [1. 0. 0. 0. 1.]\n",
      " [1. 0. 0. 0. 1.]\n",
      " [1. 1. 1. 1. 1.]]\n"
     ]
    }
   ],
   "source": [
    "# Q8\n",
    "\n",
    "import numpy as np\n",
    "x=np.ones(25)\n",
    "y=x.reshape(5,5)\n",
    "y[1:4,1:4]=0\n",
    "print(y)"
   ]
  },
  {
   "cell_type": "code",
   "execution_count": 53,
   "id": "7f637627",
   "metadata": {
    "ExecuteTime": {
     "end_time": "2022-10-06T22:31:57.583885Z",
     "start_time": "2022-10-06T22:31:57.215500Z"
    }
   },
   "outputs": [
    {
     "name": "stdout",
     "output_type": "stream",
     "text": [
      "[[0. 0. 0. 0. 0.]\n",
      " [0. 1. 1. 1. 0.]\n",
      " [0. 1. 1. 1. 0.]\n",
      " [0. 1. 1. 1. 0.]\n",
      " [0. 0. 0. 0. 0.]]\n"
     ]
    }
   ],
   "source": [
    "# Q9\n",
    "import numpy as np \n",
    "a = np.ones((3, 3))\n",
    "b = np.zeros((5, 5))\n",
    "b[1:-1, 1:-1] = a\n",
    "print(b)"
   ]
  },
  {
   "cell_type": "code",
   "execution_count": 58,
   "id": "f2efc9b1",
   "metadata": {
    "ExecuteTime": {
     "end_time": "2022-10-06T22:38:57.204237Z",
     "start_time": "2022-10-06T22:38:57.194241Z"
    }
   },
   "outputs": [
    {
     "name": "stdout",
     "output_type": "stream",
     "text": [
      "[[0. 1. 0. 1. 0. 1. 0. 1.]\n",
      " [1. 0. 1. 0. 1. 0. 1. 0.]\n",
      " [0. 1. 0. 1. 0. 1. 0. 1.]\n",
      " [1. 0. 1. 0. 1. 0. 1. 0.]\n",
      " [0. 1. 0. 1. 0. 1. 0. 1.]\n",
      " [1. 0. 1. 0. 1. 0. 1. 0.]\n",
      " [0. 1. 0. 1. 0. 1. 0. 1.]\n",
      " [1. 0. 1. 0. 1. 0. 1. 0.]]\n"
     ]
    }
   ],
   "source": [
    "# Q10\n",
    "\n",
    "import numpy as np\n",
    "x=np.ones(64).reshape(8,8)\n",
    "x[::2,::2]=0\n",
    "x[1::2,1::2]=0\n",
    "print(x)"
   ]
  },
  {
   "cell_type": "code",
   "execution_count": 1,
   "id": "613d5d06",
   "metadata": {
    "ExecuteTime": {
     "end_time": "2022-10-07T15:31:32.255650Z",
     "start_time": "2022-10-07T15:31:30.227229Z"
    }
   },
   "outputs": [
    {
     "name": "stdout",
     "output_type": "stream",
     "text": [
      "[[1 2]\n",
      " [3 4]]\n"
     ]
    }
   ],
   "source": [
    "# NumPy Linear Algebra\n",
    "# Q1\n",
    "\n",
    "import numpy as np\n",
    "c= np.array([[1,0],[0,1]])\n",
    "d = np.array([[1,2],[3,4]])\n",
    "print((c.dot(d)))\n"
   ]
  },
  {
   "cell_type": "code",
   "execution_count": 3,
   "id": "f78be17a",
   "metadata": {
    "ExecuteTime": {
     "end_time": "2022-10-07T15:36:58.048370Z",
     "start_time": "2022-10-07T15:36:58.038375Z"
    }
   },
   "outputs": [
    {
     "name": "stdout",
     "output_type": "stream",
     "text": [
      "[[1 2 3 4]\n",
      " [0 0 0 0]\n",
      " [0 0 0 0]\n",
      " [1 2 3 4]]\n"
     ]
    }
   ],
   "source": [
    "#Q2\n",
    "\n",
    "import numpy as np\n",
    "c= np.array([[1,0],[0,1]])\n",
    "d = np.array([[1,2],[3,4]])\n",
    "result = np.outer(c, d)\n",
    "print (result)\n"
   ]
  },
  {
   "cell_type": "code",
   "execution_count": 6,
   "id": "dbdf7dd4",
   "metadata": {
    "ExecuteTime": {
     "end_time": "2022-10-07T15:46:10.466353Z",
     "start_time": "2022-10-07T15:46:10.456360Z"
    }
   },
   "outputs": [
    {
     "name": "stdout",
     "output_type": "stream",
     "text": [
      "cross product of the said two vectors(c, d):\n",
      "[ 2 -3]\n",
      "cross product of the said two vectors(d, c):\n",
      "[-2  3]\n"
     ]
    }
   ],
   "source": [
    "# Q3\n",
    "\n",
    "import numpy as np\n",
    "c= np.array([[1,0],[0,1]])\n",
    "d = np.array([[1,2],[3,4]])\n",
    "\n",
    "result1 = np.cross(c, d)\n",
    "result2 = np.cross(d,c)\n",
    "print(\"cross product of the said two vectors(c, d):\")\n",
    "print(result1)\n",
    "print(\"cross product of the said two vectors(d, c):\")\n",
    "print(result2)"
   ]
  },
  {
   "cell_type": "code",
   "execution_count": 9,
   "id": "b784d64b",
   "metadata": {
    "ExecuteTime": {
     "end_time": "2022-10-07T15:54:31.738019Z",
     "start_time": "2022-10-07T15:54:31.726025Z"
    }
   },
   "outputs": [
    {
     "name": "stdout",
     "output_type": "stream",
     "text": [
      "[[1 0]\n",
      " [1 2]]\n",
      "Determinant of the said 2-D array:\n",
      "2.0\n"
     ]
    }
   ],
   "source": [
    "# Q4\n",
    "\n",
    "import numpy as np\n",
    "from numpy import linalg as LA\n",
    "a = np.array([[1, 0], [1, 2]])\n",
    "print(a)\n",
    "print(\"Determinant of the said 2-D array:\")\n",
    "print(np.linalg.det(a))\n",
    "\n",
    "\n"
   ]
  },
  {
   "cell_type": "code",
   "execution_count": 10,
   "id": "07e43a12",
   "metadata": {
    "ExecuteTime": {
     "end_time": "2022-10-07T16:35:52.584904Z",
     "start_time": "2022-10-07T16:35:52.508285Z"
    }
   },
   "outputs": [
    {
     "name": "stdout",
     "output_type": "stream",
     "text": [
      "[1 2 3]\n",
      "[0 1 0]\n",
      "Einstein’s summation convention of the said arrays:\n",
      "2\n",
      "Original Higher dimension:\n",
      "[[0 1 2]\n",
      " [3 4 5]\n",
      " [6 7 8]]\n",
      "[[ 3  4  5]\n",
      " [ 6  7  8]\n",
      " [ 9 10 11]]\n",
      "Einstein’s summation convention of the said arrays:\n",
      "[[ 24  27  30]\n",
      " [ 78  90 102]\n",
      " [132 153 174]]\n"
     ]
    }
   ],
   "source": [
    "# Q5\n",
    "\n",
    "import numpy as np\n",
    "a = np.array([1,2,3])\n",
    "b = np.array([0,1,0])\n",
    "print(a)\n",
    "print(b)\n",
    "result =  np.einsum(\"n,n\", a, b)\n",
    "print(\"Einstein’s summation convention of the said arrays:\")\n",
    "print(result)\n",
    "x = np.arange(9).reshape(3, 3)\n",
    "y = np.arange(3, 12).reshape(3, 3)\n",
    "print(\"Original Higher dimension:\")\n",
    "print(x)\n",
    "print(y)\n",
    "result = np.einsum(\"mk,kn\", x, y)\n",
    "print(\"Einstein’s summation convention of the said arrays:\")\n",
    "print(result)"
   ]
  },
  {
   "cell_type": "code",
   "execution_count": 11,
   "id": "8943e3a5",
   "metadata": {
    "ExecuteTime": {
     "end_time": "2022-10-07T16:39:43.590497Z",
     "start_time": "2022-10-07T16:39:43.558506Z"
    }
   },
   "outputs": [
    {
     "name": "stdout",
     "output_type": "stream",
     "text": [
      "[1 2 5]\n",
      "[2 1 0]\n",
      "4\n",
      "Inner product of the said vectors:\n",
      "Higher dimension arrays:\n",
      "[[0 1 2]\n",
      " [3 4 5]\n",
      " [6 7 8]]\n",
      "[[ 3  4  5]\n",
      " [ 6  7  8]\n",
      " [ 9 10 11]]\n",
      "Inner product of the said vectors:\n",
      "[[ 14  23  32]\n",
      " [ 50  86 122]\n",
      " [ 86 149 212]]\n"
     ]
    }
   ],
   "source": [
    "# Q6\n",
    "\n",
    "import numpy as np\n",
    "a = np.array([1,2,5])\n",
    "b = np.array([2,1,0])\n",
    "print(a)\n",
    "print(b)\n",
    "result = np.inner(a, b)\n",
    "print(result)\n",
    "print(\"Inner product of the said vectors:\")\n",
    "x = np.arange(9).reshape(3, 3)\n",
    "y = np.arange(3, 12).reshape(3, 3)\n",
    "print(\"Higher dimension arrays:\")\n",
    "print(x)\n",
    "print(y)\n",
    "result1 = np.inner(x, y)\n",
    "print(\"Inner product of the said vectors:\")\n",
    "print(result1)"
   ]
  },
  {
   "cell_type": "code",
   "execution_count": 12,
   "id": "17942644",
   "metadata": {
    "ExecuteTime": {
     "end_time": "2022-10-07T16:42:44.076286Z",
     "start_time": "2022-10-07T16:42:43.917298Z"
    }
   },
   "outputs": [
    {
     "name": "stdout",
     "output_type": "stream",
     "text": [
      "a\n",
      " [[ 3 -2]\n",
      " [ 1  0]]\n",
      "Eigenvalues of the said matrix [2. 1.]\n",
      "Eigenvectors of the said matrix [[0.89442719 0.70710678]\n",
      " [0.4472136  0.70710678]]\n"
     ]
    }
   ],
   "source": [
    "# Q7\n",
    "\n",
    "import numpy as np\n",
    "m = np.mat(\"3 -2;1 0\")\n",
    "print(\"a\\n\", m)\n",
    "w, v = np.linalg.eig(m) \n",
    "print( \"Eigenvalues of the said matrix\",w)\n",
    "print( \"Eigenvectors of the said matrix\",v)"
   ]
  },
  {
   "cell_type": "code",
   "execution_count": 14,
   "id": "fb98e2b4",
   "metadata": {
    "ExecuteTime": {
     "end_time": "2022-10-07T16:45:01.079162Z",
     "start_time": "2022-10-07T16:45:01.056179Z"
    }
   },
   "outputs": [
    {
     "name": "stdout",
     "output_type": "stream",
     "text": [
      "[1 2 3]\n",
      "[0 1 0]\n",
      "[0 1 0 0 2 0 0 3 0]\n",
      "Original Higher dimension:\n",
      "[[0 1 2]\n",
      " [3 4 5]\n",
      " [6 7 8]]\n",
      "[[ 3  4  5]\n",
      " [ 6  7  8]\n",
      " [ 9 10 11]]\n",
      "Kronecker product  of the said arrays:\n",
      "[[ 0  0  0  3  4  5  6  8 10]\n",
      " [ 0  0  0  6  7  8 12 14 16]\n",
      " [ 0  0  0  9 10 11 18 20 22]\n",
      " [ 9 12 15 12 16 20 15 20 25]\n",
      " [18 21 24 24 28 32 30 35 40]\n",
      " [27 30 33 36 40 44 45 50 55]\n",
      " [18 24 30 21 28 35 24 32 40]\n",
      " [36 42 48 42 49 56 48 56 64]\n",
      " [54 60 66 63 70 77 72 80 88]]\n"
     ]
    }
   ],
   "source": [
    "# Q8\n",
    "\n",
    "import numpy as np\n",
    "a = np.array([1,2,3])\n",
    "b = np.array([0,1,0])\n",
    "print(a)\n",
    "print(b)\n",
    "result =  np.kron(a, b)\n",
    "print(result)\n",
    "x = np.arange(9).reshape(3, 3)\n",
    "y = np.arange(3, 12).reshape(3, 3)\n",
    "print(\"Original Higher dimension:\")\n",
    "print(x)\n",
    "print(y)\n",
    "result = np.kron(x, y)\n",
    "print(\"Kronecker product  of the said arrays:\")\n",
    "print(result)"
   ]
  },
  {
   "cell_type": "code",
   "execution_count": 15,
   "id": "73f11d7a",
   "metadata": {
    "ExecuteTime": {
     "end_time": "2022-10-07T16:46:30.525670Z",
     "start_time": "2022-10-07T16:46:29.535609Z"
    }
   },
   "outputs": [
    {
     "name": "stdout",
     "output_type": "stream",
     "text": [
      "[[ 1  0 -1]\n",
      " [ 0  1  0]\n",
      " [ 1  0  1]]\n",
      "The condition number of the said matrix:\n",
      "1.4142135623730951\n"
     ]
    }
   ],
   "source": [
    "# Q9\n",
    "\n",
    "import numpy as np\n",
    "from numpy import linalg as LA\n",
    "a = np.array([[1, 0, -1], [0, 1, 0], [1, 0, 1]])\n",
    "print(a)\n",
    "print(\"The condition number of the said matrix:\")\n",
    "print(LA.cond(a))"
   ]
  },
  {
   "cell_type": "code",
   "execution_count": 16,
   "id": "ef9cf7b1",
   "metadata": {
    "ExecuteTime": {
     "end_time": "2022-10-07T16:47:58.151622Z",
     "start_time": "2022-10-07T16:47:57.786687Z"
    }
   },
   "outputs": [
    {
     "name": "stdout",
     "output_type": "stream",
     "text": [
      "Vector norm:\n",
      "11.832159566199232\n",
      "Matrix norm:\n",
      "5.477225575051661\n"
     ]
    }
   ],
   "source": [
    "# Q10\n",
    "\n",
    "import numpy as np\n",
    "v = np.arange(8)\n",
    "result = np.linalg.norm(v)\n",
    "print(\"Vector norm:\")\n",
    "print(result)\n",
    "m = np.matrix('1, 2; 3, 4') \n",
    "result1 = np.linalg.norm(m)\n",
    "print(\"Matrix norm:\")\n",
    "print(result1)\n",
    "\n"
   ]
  },
  {
   "cell_type": "code",
   "execution_count": 27,
   "id": "e9a0fc27",
   "metadata": {
    "ExecuteTime": {
     "end_time": "2022-10-07T22:37:28.313697Z",
     "start_time": "2022-10-07T22:37:28.305699Z"
    }
   },
   "outputs": [
    {
     "name": "stdout",
     "output_type": "stream",
     "text": [
      "[ 0.78536374  2.26958135  0.14866003 -1.35902465  0.71896121]\n"
     ]
    }
   ],
   "source": [
    "# NumPy Random\n",
    "# Q1\n",
    "\n",
    "import numpy as np\n",
    "x = np.random.normal(size=5)\n",
    "print(x)"
   ]
  },
  {
   "cell_type": "code",
   "execution_count": 24,
   "id": "4491dd2b",
   "metadata": {
    "ExecuteTime": {
     "end_time": "2022-10-07T22:36:43.476330Z",
     "start_time": "2022-10-07T22:36:43.408370Z"
    }
   },
   "outputs": [
    {
     "name": "stdout",
     "output_type": "stream",
     "text": [
      "[19 18 10 23 28 20]\n"
     ]
    }
   ],
   "source": [
    "# Q2\n",
    "\n",
    "import numpy as np\n",
    "x = np.random.randint(10, 30, 6)\n",
    "print(x)"
   ]
  },
  {
   "cell_type": "code",
   "execution_count": 31,
   "id": "6bada512",
   "metadata": {
    "ExecuteTime": {
     "end_time": "2022-10-07T22:41:25.275845Z",
     "start_time": "2022-10-07T22:41:25.267847Z"
    }
   },
   "outputs": [
    {
     "name": "stdout",
     "output_type": "stream",
     "text": [
      "[[[0.03693777 0.6089032  0.42963591]\n",
      "  [0.5420533  0.99610717 0.27241661]\n",
      "  [0.97573538 0.79279412 0.6337154 ]]\n",
      "\n",
      " [[0.10875838 0.48860709 0.85552284]\n",
      "  [0.15207913 0.63608173 0.11731163]\n",
      "  [0.14612191 0.11843183 0.14866972]]\n",
      "\n",
      " [[0.69666133 0.85956685 0.18100129]\n",
      "  [0.83016295 0.21974887 0.34854924]\n",
      "  [0.5182363  0.20257978 0.97820549]]]\n"
     ]
    }
   ],
   "source": [
    "# Q3\n",
    "\n",
    "import numpy as np\n",
    "x = np.random.random((3,3,3))\n",
    "print(x)"
   ]
  },
  {
   "cell_type": "code",
   "execution_count": 32,
   "id": "931b66ef",
   "metadata": {
    "ExecuteTime": {
     "end_time": "2022-10-07T22:43:26.229581Z",
     "start_time": "2022-10-07T22:43:26.183613Z"
    }
   },
   "outputs": [
    {
     "name": "stdout",
     "output_type": "stream",
     "text": [
      "[[0.95349864 0.51634668 0.11669738 0.83764434 0.73383892]\n",
      " [0.73705147 0.06337298 0.17268049 0.28845366 0.73427233]\n",
      " [0.5667534  0.25234327 0.13318168 0.61949164 0.16830709]\n",
      " [0.38554121 0.89608643 0.60321738 0.43219611 0.53653377]\n",
      " [0.03331862 0.33945318 0.82276016 0.68117296 0.99420807]]\n",
      "Minimum and Maximum Values:\n",
      "0.03331861851430018 0.9942080676070054\n"
     ]
    }
   ],
   "source": [
    "# Q4\n",
    "\n",
    "import numpy as np\n",
    "x = np.random.random((5,5))\n",
    "print(x) \n",
    "xmin, xmax = x.min(), x.max()\n",
    "print(\"Minimum and Maximum Values:\")\n",
    "print(xmin, xmax)"
   ]
  },
  {
   "cell_type": "code",
   "execution_count": 33,
   "id": "7c201bd8",
   "metadata": {
    "ExecuteTime": {
     "end_time": "2022-10-07T22:48:11.984145Z",
     "start_time": "2022-10-07T22:48:11.945169Z"
    }
   },
   "outputs": [
    {
     "name": "stdout",
     "output_type": "stream",
     "text": [
      "[[0.65327385 0.04409263 0.48993355 0.56032244]\n",
      " [0.40139461 0.07312145 0.56144666 0.7032924 ]\n",
      " [0.18332577 0.95761685 0.63791433 0.45300125]\n",
      " [0.6994873  0.56907642 0.05142012 0.78786002]\n",
      " [0.76851098 0.2904252  0.53510135 0.15570314]\n",
      " [0.53430055 0.26502845 0.02373878 0.93761808]\n",
      " [0.17668922 0.38607583 0.32037447 0.56214139]\n",
      " [0.08879946 0.40919742 0.58269314 0.70619387]\n",
      " [0.13538587 0.06596472 0.66801911 0.50143077]\n",
      " [0.47186476 0.39902113 0.37018437 0.75009775]]\n",
      "First 5 rows of the above array:\n",
      "[[0.65327385 0.04409263 0.48993355 0.56032244]\n",
      " [0.40139461 0.07312145 0.56144666 0.7032924 ]\n",
      " [0.18332577 0.95761685 0.63791433 0.45300125]\n",
      " [0.6994873  0.56907642 0.05142012 0.78786002]\n",
      " [0.76851098 0.2904252  0.53510135 0.15570314]]\n"
     ]
    }
   ],
   "source": [
    "# Q5\n",
    "\n",
    "import numpy as np\n",
    "x = np.random.rand(10, 4)\n",
    "print(x)\n",
    "y= x[:5, :]\n",
    "print(\"First 5 rows of the above array:\")\n",
    "print(y)"
   ]
  },
  {
   "cell_type": "code",
   "execution_count": 38,
   "id": "1c45b151",
   "metadata": {
    "ExecuteTime": {
     "end_time": "2022-10-07T22:54:04.110155Z",
     "start_time": "2022-10-07T22:54:04.101159Z"
    }
   },
   "outputs": [
    {
     "name": "stdout",
     "output_type": "stream",
     "text": [
      "[4 1 0 2 3 7 6 8 5 9]\n",
      "Same result using permutation():\n",
      "[1 5 0 3 9 2 7 8 4 6]\n"
     ]
    }
   ],
   "source": [
    "# Q6\n",
    "\n",
    "import numpy as np\n",
    "x = np.arange(10)\n",
    "np.random.shuffle(x)\n",
    "print(x)\n",
    "print(\"Same result using permutation():\")\n",
    "print(np.random.permutation(10))"
   ]
  },
  {
   "cell_type": "code",
   "execution_count": 39,
   "id": "0d0b72a2",
   "metadata": {
    "ExecuteTime": {
     "end_time": "2022-10-07T23:06:34.212921Z",
     "start_time": "2022-10-07T23:06:34.181938Z"
    }
   },
   "outputs": [
    {
     "name": "stdout",
     "output_type": "stream",
     "text": [
      "Original Array:\n",
      "[[0.21821634 0.04862385 0.21719361]\n",
      " [0.3618794  0.2313733  0.73467352]\n",
      " [0.65796593 0.35994455 0.14847905]]\n",
      "After normalization:\n",
      "[[0.24720147 0.         0.24571072]\n",
      " [0.45660768 0.26637933 1.        ]\n",
      " [0.88818946 0.45378741 0.14555098]]\n"
     ]
    }
   ],
   "source": [
    "# Q7\n",
    "\n",
    "import numpy as np\n",
    "x= np.random.random((3,3))\n",
    "print(\"Original Array:\")\n",
    "print(x)\n",
    "xmax, xmin = x.max(), x.min()\n",
    "x = (x - xmin)/(xmax - xmin)\n",
    "print(\"After normalization:\")\n",
    "print(x)"
   ]
  },
  {
   "cell_type": "code",
   "execution_count": 40,
   "id": "b5f17474",
   "metadata": {
    "ExecuteTime": {
     "end_time": "2022-10-07T23:10:37.667600Z",
     "start_time": "2022-10-07T23:10:37.652608Z"
    }
   },
   "outputs": [
    {
     "name": "stdout",
     "output_type": "stream",
     "text": [
      "[0.91284092 0.58298223 0.98092172 0.92045691 0.31704275 0.59589967\n",
      " 0.67592503 0.57013685 0.86517127 0.56108387]\n",
      "Sorted array:\n",
      "[0.31704275 0.56108387 0.57013685 0.58298223 0.59589967 0.67592503\n",
      " 0.86517127 0.91284092 0.92045691 0.98092172]\n"
     ]
    }
   ],
   "source": [
    "# Q8\n",
    "\n",
    "import numpy as np\n",
    "x = np.random.random(10)\n",
    "print(x)\n",
    "x.sort()\n",
    "print(\"Sorted array:\")\n",
    "print(x)"
   ]
  },
  {
   "cell_type": "code",
   "execution_count": 41,
   "id": "90984779",
   "metadata": {
    "ExecuteTime": {
     "end_time": "2022-10-07T23:16:16.837292Z",
     "start_time": "2022-10-07T23:16:16.757337Z"
    }
   },
   "outputs": [
    {
     "name": "stdout",
     "output_type": "stream",
     "text": [
      "[ 3.12161274  5.44402707  5.82993182  2.42850972 10.03245706]\n",
      "3.1216127406800953\n"
     ]
    }
   ],
   "source": [
    "# Q9\n",
    "\n",
    "import numpy as np\n",
    "x = np.random.uniform(1, 12, 5)\n",
    "print(x)\n",
    "v = 4\n",
    "n = x.flat[np.abs(x - v).argmin()]\n",
    "print(n)"
   ]
  },
  {
   "cell_type": "code",
   "execution_count": 43,
   "id": "87270301",
   "metadata": {
    "ExecuteTime": {
     "end_time": "2022-10-07T23:19:40.694208Z",
     "start_time": "2022-10-07T23:19:40.613258Z"
    }
   },
   "outputs": [
    {
     "name": "stdout",
     "output_type": "stream",
     "text": [
      "First array:\n",
      "[2 1 0 0 0]\n",
      "Second array:\n",
      "[1 0 0 2 1]\n",
      "Test above two arrays are equal or not!\n",
      "False\n"
     ]
    }
   ],
   "source": [
    "# Q10\n",
    "\n",
    "import numpy as np\n",
    "x = np.random.randint(0,3,5)\n",
    "print(\"First array:\")\n",
    "print(x)\n",
    "y = np.random.randint(0,3,5)\n",
    "print(\"Second array:\")\n",
    "print(y)\n",
    "print(\"Test above two arrays are equal or not!\")\n",
    "array_equal = np.allclose(x, y)\n",
    "print(array_equal)"
   ]
  },
  {
   "cell_type": "code",
   "execution_count": 1,
   "id": "31ff0a29",
   "metadata": {
    "ExecuteTime": {
     "end_time": "2022-10-08T14:30:24.319199Z",
     "start_time": "2022-10-08T14:30:23.246322Z"
    }
   },
   "outputs": [
    {
     "name": "stdout",
     "output_type": "stream",
     "text": [
      "[[10 40]\n",
      " [30 20]]\n",
      "Sort the array along the first axis:\n",
      "[[10 20]\n",
      " [30 40]]\n",
      "Sort the array along the last axis:\n",
      "[[10 40]\n",
      " [20 30]]\n",
      "Sort the flattened array:\n",
      "[10 20 30 40]\n"
     ]
    }
   ],
   "source": [
    "# NumPy Sorting and Searching\n",
    "# Q1\n",
    "\n",
    "import numpy as np\n",
    "a = np.array([[10,40],[30,20]])\n",
    "print(a)\n",
    "print(\"Sort the array along the first axis:\")\n",
    "print(np.sort(a, axis=0))\n",
    "print(\"Sort the array along the last axis:\")\n",
    "print(np.sort(a))\n",
    "print(\"Sort the flattened array:\")\n",
    "print(np.sort(a, axis=None))\n"
   ]
  },
  {
   "cell_type": "code",
   "execution_count": 2,
   "id": "b69f21f9",
   "metadata": {
    "ExecuteTime": {
     "end_time": "2022-10-08T14:45:45.754588Z",
     "start_time": "2022-10-08T14:45:45.446742Z"
    }
   },
   "outputs": [
    {
     "name": "stdout",
     "output_type": "stream",
     "text": [
      "[(b'ABDO', 5, 48.5 ) (b'MOHAMED', 6, 52.5 ) (b'AHMED', 5, 42.1 )\n",
      " (b'RAMY', 5, 40.11)]\n",
      "Sort by height\n",
      "[(b'RAMY', 5, 40.11) (b'AHMED', 5, 42.1 ) (b'ABDO', 5, 48.5 )\n",
      " (b'MOHAMED', 6, 52.5 )]\n"
     ]
    }
   ],
   "source": [
    "# Q2\n",
    "\n",
    "import numpy as np\n",
    "data_type = [('name', 'S15'), ('class', int), ('height', float)]\n",
    "students_details = [('ABDO', 5, 48.5), ('MOHAMED', 6, 52.5),('AHMED', 5, 42.10), ('RAMY', 5, 40.11)]\n",
    "students = np.array(students_details, dtype=data_type)   \n",
    "print(students)\n",
    "print(\"Sort by height\")\n",
    "print(np.sort(students, order='height'))    \n"
   ]
  },
  {
   "cell_type": "code",
   "execution_count": 5,
   "id": "6c0ef232",
   "metadata": {
    "ExecuteTime": {
     "end_time": "2022-10-08T14:54:26.468950Z",
     "start_time": "2022-10-08T14:54:26.454957Z"
    }
   },
   "outputs": [
    {
     "name": "stdout",
     "output_type": "stream",
     "text": [
      "[(b'ABDO', 5, 48.5 ) (b'MOHAMED', 6, 52.5 ) (b'AHMED', 5, 42.1 )\n",
      " (b'RAMY', 5, 40.11)]\n",
      "Sort by class, then height if class are equal:\n",
      "[(b'RAMY', 5, 40.11) (b'AHMED', 5, 42.1 ) (b'ABDO', 5, 48.5 )\n",
      " (b'MOHAMED', 6, 52.5 )]\n"
     ]
    }
   ],
   "source": [
    "# Q3\n",
    "\n",
    "\n",
    "import numpy as np\n",
    "data_type = [('name', 'S15'), ('class', int), ('height', float)]\n",
    "students_details = [('ABDO', 5, 48.5), ('MOHAMED', 6, 52.5),('AHMED', 5, 42.10), ('RAMY', 5, 40.11)]\n",
    "students = np.array(students_details, dtype=data_type)   \n",
    "print(students)\n",
    "print(\"Sort by class, then height if class are equal:\")\n",
    "print(np.sort(students, order=['class','height']))    \n"
   ]
  },
  {
   "cell_type": "code",
   "execution_count": 6,
   "id": "35608bb8",
   "metadata": {
    "ExecuteTime": {
     "end_time": "2022-10-08T15:04:42.774940Z",
     "start_time": "2022-10-08T15:04:42.738357Z"
    }
   },
   "outputs": [
    {
     "name": "stdout",
     "output_type": "stream",
     "text": [
      "[1023 5202 6230 1671 1682 5241 4532]\n",
      "Indices of the sorted elements of a given array:\n",
      "[0 3 4 6 1 5 2]\n"
     ]
    }
   ],
   "source": [
    "# Q5\n",
    "\n",
    "import numpy as np\n",
    "student_id = np.array([1023, 5202, 6230, 1671, 1682, 5241, 4532])\n",
    "print(student_id)\n",
    "i = np.argsort(student_id)\n",
    "print(\"Indices of the sorted elements of a given array:\")\n",
    "print(i)"
   ]
  },
  {
   "cell_type": "code",
   "execution_count": 7,
   "id": "bad2e8cd",
   "metadata": {
    "ExecuteTime": {
     "end_time": "2022-10-08T15:10:55.524995Z",
     "start_time": "2022-10-08T15:10:55.253937Z"
    }
   },
   "outputs": [
    {
     "name": "stdout",
     "output_type": "stream",
     "text": [
      "[(1+2j), (3-1j), (3-2j), (4-3j), (3+5j)]\n",
      "[1.+2.j 3.-2.j 3.-1.j 3.+5.j 4.-3.j]\n"
     ]
    }
   ],
   "source": [
    "# Q6\n",
    "\n",
    "import numpy as np\n",
    "complex_num = [1 + 2j, 3 - 1j, 3 - 2j, 4 - 3j, 3 + 5j]\n",
    "print(complex_num)\n",
    "print(np.sort_complex(complex_num))"
   ]
  },
  {
   "cell_type": "code",
   "execution_count": 8,
   "id": "7c845b89",
   "metadata": {
    "ExecuteTime": {
     "end_time": "2022-10-08T15:16:25.778145Z",
     "start_time": "2022-10-08T15:16:25.716183Z"
    }
   },
   "outputs": [
    {
     "name": "stdout",
     "output_type": "stream",
     "text": [
      "Add:\n",
      "5.0\n",
      "Subtract:\n",
      "-3.0\n",
      "Multiply:\n",
      "4.0\n",
      "Divide:\n",
      "0.25\n"
     ]
    }
   ],
   "source": [
    "# NumPy Mathematics\n",
    "# Q1\n",
    "\n",
    "import numpy as np\n",
    "print(\"Add:\")\n",
    "print(np.add(1.0, 4.0))\n",
    "print(\"Subtract:\")\n",
    "print(np.subtract(1.0, 4.0))\n",
    "print(\"Multiply:\")\n",
    "print(np.multiply(1.0, 4.0))\n",
    "print(\"Divide:\")\n",
    "print(np.divide(1.0, 4.0))\n"
   ]
  },
  {
   "cell_type": "code",
   "execution_count": 9,
   "id": "707d06a7",
   "metadata": {
    "ExecuteTime": {
     "end_time": "2022-10-08T15:27:29.930771Z",
     "start_time": "2022-10-08T15:27:28.903773Z"
    }
   },
   "outputs": [
    {
     "name": "stdout",
     "output_type": "stream",
     "text": [
      "[0 1 2 3 4 5 6 7 8 9]\n",
      "Division of the array inputs, element-wise:\n",
      "[0.         0.33333333 0.66666667 1.         1.33333333 1.66666667\n",
      " 2.         2.33333333 2.66666667 3.        ]\n"
     ]
    }
   ],
   "source": [
    "# Q3\n",
    "\n",
    "import numpy as np\n",
    "x = np.arange(10)\n",
    "print(x)\n",
    "print(\"Division of the array inputs, element-wise:\")\n",
    "print(np.true_divide(x, 3))\n",
    "\n"
   ]
  },
  {
   "cell_type": "code",
   "execution_count": 10,
   "id": "63aba8a2",
   "metadata": {
    "ExecuteTime": {
     "end_time": "2022-10-08T15:39:21.907706Z",
     "start_time": "2022-10-08T15:39:21.152217Z"
    }
   },
   "outputs": [
    {
     "name": "stdout",
     "output_type": "stream",
     "text": [
      "[1.0, 2.0, 3.0, 4.0]\n",
      "Largest integer smaller or equal to the division of the inputs:\n",
      "[0. 1. 2. 2.]\n"
     ]
    }
   ],
   "source": [
    "# Q4\n",
    "\n",
    "import numpy as np\n",
    "x = [1., 2., 3., 4.]\n",
    "print(x)\n",
    "print(\"Largest integer smaller or equal to the division of the inputs:\")\n",
    "print(np.floor_divide(x, 1.5))"
   ]
  },
  {
   "cell_type": "code",
   "execution_count": 11,
   "id": "095e861f",
   "metadata": {
    "ExecuteTime": {
     "end_time": "2022-10-08T15:42:02.865058Z",
     "start_time": "2022-10-08T15:42:02.709132Z"
    }
   },
   "outputs": [
    {
     "name": "stdout",
     "output_type": "stream",
     "text": [
      "[0 1 2 3 4 5 6]\n",
      "First array elements raised to powers from second array, element-wise:\n",
      "[  0   1   8  27  64 125 216]\n"
     ]
    }
   ],
   "source": [
    "# Q5\n",
    "\n",
    "import numpy as np\n",
    "x = np.arange(7)\n",
    "print(x)\n",
    "print(\"First array elements raised to powers from second array, element-wise:\")\n",
    "print(np.power(x, 3))\n"
   ]
  },
  {
   "cell_type": "code",
   "execution_count": 12,
   "id": "0f2e1719",
   "metadata": {
    "ExecuteTime": {
     "end_time": "2022-10-08T15:54:15.542014Z",
     "start_time": "2022-10-08T15:54:15.459082Z"
    }
   },
   "outputs": [
    {
     "name": "stdout",
     "output_type": "stream",
     "text": [
      "[ 0  1  2  3  4  5  6  7  8  9 10 11 12 13 14]\n",
      "Element-wise remainder of division:\n",
      "[0 1 2 3 4 0 1 2 3 4 0 1 2 3 4]\n"
     ]
    }
   ],
   "source": [
    "# Q6\n",
    "\n",
    "import numpy as np\n",
    "x = np.arange(15)\n",
    "print(x)\n",
    "print(\"Element-wise remainder of division:\")\n",
    "print(np.remainder(x, 5))\n"
   ]
  },
  {
   "cell_type": "code",
   "execution_count": 13,
   "id": "df4833e5",
   "metadata": {
    "ExecuteTime": {
     "end_time": "2022-10-08T15:58:22.235223Z",
     "start_time": "2022-10-08T15:58:22.114992Z"
    }
   },
   "outputs": [
    {
     "name": "stdout",
     "output_type": "stream",
     "text": [
      "[-10.2 122.2   0.2]\n",
      "Element-wise absolute value:\n",
      "[ 10.2 122.2   0.2]\n"
     ]
    }
   ],
   "source": [
    "# Q7\n",
    "\n",
    "import numpy as np\n",
    "x = np.array([-10.2, 122.2, .20])\n",
    "print(x)\n",
    "print(\"Element-wise absolute value:\")\n",
    "print(np.absolute(x))"
   ]
  },
  {
   "cell_type": "code",
   "execution_count": 14,
   "id": "0707ab6f",
   "metadata": {
    "ExecuteTime": {
     "end_time": "2022-10-08T16:02:29.607905Z",
     "start_time": "2022-10-08T16:02:29.369849Z"
    }
   },
   "outputs": [
    {
     "name": "stdout",
     "output_type": "stream",
     "text": [
      "[1. 2. 2.]\n",
      "[0.3 0.5 0.6]\n",
      "[0. 2. 2. 4. 4.]\n"
     ]
    }
   ],
   "source": [
    "# Q8\n",
    "\n",
    "import numpy as np\n",
    "x = np.round([1.45, 1.50, 1.55])\n",
    "print(x)\n",
    "x = np.round([0.28, .50, .64], decimals=1)\n",
    "print(x)\n",
    "x = np.round([.5, 1.5, 2.5, 3.5, 4.5]) # rounds to nearest even value\n",
    "print(x)"
   ]
  },
  {
   "cell_type": "code",
   "execution_count": 15,
   "id": "5b7954ad",
   "metadata": {
    "ExecuteTime": {
     "end_time": "2022-10-08T16:05:31.328455Z",
     "start_time": "2022-10-08T16:05:31.211509Z"
    }
   },
   "outputs": [
    {
     "name": "stdout",
     "output_type": "stream",
     "text": [
      "[-0.7 -1.5 -1.7  0.3  1.5  1.8  2. ]\n",
      "Round elements of the array to the nearest integer:\n",
      "[-1. -2. -2.  0.  2.  2.  2.]\n"
     ]
    }
   ],
   "source": [
    "# Q9\n",
    "\n",
    "import numpy as np\n",
    "x = np.array([-.7, -1.5, -1.7, 0.3, 1.5, 1.8, 2.0])\n",
    "print(x)\n",
    "x = np.rint(x)\n",
    "print(\"Round elements of the array to the nearest integer:\")\n",
    "print(x)"
   ]
  },
  {
   "cell_type": "code",
   "execution_count": 16,
   "id": "806a7ec2",
   "metadata": {
    "ExecuteTime": {
     "end_time": "2022-10-08T16:10:01.605990Z",
     "start_time": "2022-10-08T16:10:01.158719Z"
    }
   },
   "outputs": [
    {
     "name": "stdout",
     "output_type": "stream",
     "text": [
      "[-1.6 -1.5 -0.3  0.1  1.4  1.8  2. ]\n",
      "Floor values of the above array elements:\n",
      "[-2. -2. -1.  0.  1.  1.  2.]\n",
      "Ceil values of the above array elements:\n",
      "[-1. -1. -0.  1.  2.  2.  2.]\n",
      "Truncated values of the above array elements:\n",
      "[-1. -1. -0.  0.  1.  1.  2.]\n"
     ]
    }
   ],
   "source": [
    "# Q10\n",
    "\n",
    "import numpy as np\n",
    "x = np.array([-1.6, -1.5, -0.3, 0.1, 1.4, 1.8, 2.0])\n",
    "print(x)\n",
    "print(\"Floor values of the above array elements:\")\n",
    "print(np.floor(x))\n",
    "print(\"Ceil values of the above array elements:\")\n",
    "print(np.ceil(x))\n",
    "print(\"Truncated values of the above array elements:\")\n",
    "print(np.trunc(x))"
   ]
  },
  {
   "cell_type": "code",
   "execution_count": 17,
   "id": "d2ad8906",
   "metadata": {
    "ExecuteTime": {
     "end_time": "2022-10-08T16:11:45.680469Z",
     "start_time": "2022-10-08T16:11:45.180418Z"
    }
   },
   "outputs": [
    {
     "name": "stdout",
     "output_type": "stream",
     "text": [
      "First array:\n",
      "[[0.90312596 0.48331687 0.75244806]\n",
      " [0.87779447 0.4613074  0.63804799]\n",
      " [0.01931945 0.27345064 0.41795242]\n",
      " [0.20856293 0.9837035  0.45296603]\n",
      " [0.38082955 0.88824481 0.10444985]]\n",
      "Second array:\n",
      "[[0.70358854 0.81011778]\n",
      " [0.35145107 0.12638476]\n",
      " [0.85730077 0.12541765]]\n",
      "Dot product of two arrays:\n",
      "[[1.4503656  0.88709255]\n",
      " [1.32673214 0.84944161]\n",
      " [0.4680084  0.10262964]\n",
      " [0.88079426 0.3500956 ]\n",
      " [0.66966683 0.43387725]]\n"
     ]
    }
   ],
   "source": [
    "# Q11\n",
    "\n",
    "import numpy as np\n",
    "x = np.random.random((5,3))\n",
    "print(\"First array:\")\n",
    "print(x)\n",
    "y = np.random.random((3,2))\n",
    "print(\"Second array:\")\n",
    "print(y)\n",
    "z = np.dot(x, y)\n",
    "print(\"Dot product of two arrays:\")\n",
    "print(z)"
   ]
  },
  {
   "cell_type": "code",
   "execution_count": 20,
   "id": "14e7a3de",
   "metadata": {
    "ExecuteTime": {
     "end_time": "2022-10-08T22:22:54.225181Z",
     "start_time": "2022-10-08T22:22:54.195200Z"
    }
   },
   "outputs": [
    {
     "name": "stdout",
     "output_type": "stream",
     "text": [
      "[[0 1]\n",
      " [2 3]]\n",
      "Maximum value of the above flattened array:\n",
      "3\n",
      "Minimum value of the above flattened array:\n",
      "0\n"
     ]
    }
   ],
   "source": [
    "# NumPy Statistics\n",
    "# Q1\n",
    "\n",
    "import numpy as np\n",
    "a = np.arange(4).reshape((2,2))\n",
    "print(a)\n",
    "print(\"Maximum value of the above flattened array:\")\n",
    "print(np.max(a))\n",
    "print(\"Minimum value of the above flattened array:\")\n",
    "print(np.min(a))\n"
   ]
  },
  {
   "cell_type": "code",
   "execution_count": 23,
   "id": "5005ee7f",
   "metadata": {
    "ExecuteTime": {
     "end_time": "2022-10-08T22:33:28.275935Z",
     "start_time": "2022-10-08T22:33:28.227958Z"
    }
   },
   "outputs": [
    {
     "name": "stdout",
     "output_type": "stream",
     "text": [
      "[[0 1]\n",
      " [2 3]]\n",
      "\n",
      "Maximum value along the second axis:\n",
      "[1 3]\n",
      "Minimum value along the second axis:\n",
      "[0 2]\n"
     ]
    }
   ],
   "source": [
    "# Q2\n",
    "\n",
    "import numpy as np\n",
    "x = np.arange(4).reshape((2, 2))\n",
    "print(x)\n",
    "print(\"\\nMaximum value along the second axis:\")\n",
    "print(np.max(x, 1))\n",
    "print(\"Minimum value along the second axis:\")\n",
    "print(np.min(x, 1))"
   ]
  },
  {
   "cell_type": "code",
   "execution_count": 26,
   "id": "f6ee3dce",
   "metadata": {
    "ExecuteTime": {
     "end_time": "2022-10-08T22:36:53.182964Z",
     "start_time": "2022-10-08T22:36:53.170970Z"
    }
   },
   "outputs": [
    {
     "name": "stdout",
     "output_type": "stream",
     "text": [
      "\n",
      "Original array:\n",
      "[[ 0  1  2  3  4  5]\n",
      " [ 6  7  8  9 10 11]]\n",
      "\n",
      "Difference between the maximum and the minimum values of the said array:\n",
      "[5 5]\n"
     ]
    }
   ],
   "source": [
    "# Q3\n",
    "\n",
    "import numpy as np\n",
    "x = np.arange(12).reshape((2, 6))\n",
    "print(\"\\nOriginal array:\")\n",
    "print(x)\n",
    "r1 = np.amax(x, 1) - np.amin(x, 1)\n",
    "print(\"\\nDifference between the maximum and the minimum values of the said array:\")\n",
    "print(r1)\n"
   ]
  },
  {
   "cell_type": "code",
   "execution_count": 27,
   "id": "2dc2d310",
   "metadata": {
    "ExecuteTime": {
     "end_time": "2022-10-08T22:40:58.563141Z",
     "start_time": "2022-10-08T22:40:57.752936Z"
    }
   },
   "outputs": [
    {
     "name": "stdout",
     "output_type": "stream",
     "text": [
      "[[ 0  1  2  3  4  5]\n",
      " [ 6  7  8  9 10 11]]\n",
      "\n",
      "80th percentile for all elements of the said array along the second axis:\n",
      "[ 4. 10.]\n"
     ]
    }
   ],
   "source": [
    "# Q4\n",
    "\n",
    "import numpy as np\n",
    "x = np.arange(12).reshape((2, 6))\n",
    "print(x)\n",
    "r1 = np.percentile(x, 80, 1)\n",
    "print(\"\\n80th percentile for all elements of the said array along the second axis:\")\n",
    "print(r1)"
   ]
  },
  {
   "cell_type": "code",
   "execution_count": 29,
   "id": "0c22e9d0",
   "metadata": {
    "ExecuteTime": {
     "end_time": "2022-10-08T22:42:51.084911Z",
     "start_time": "2022-10-08T22:42:51.052929Z"
    }
   },
   "outputs": [
    {
     "name": "stdout",
     "output_type": "stream",
     "text": [
      "[[ 0  1  2  3  4  5  6]\n",
      " [ 7  8  9 10 11 12 13]]\n",
      "\n",
      "Median of said array:\n",
      "6.5\n"
     ]
    }
   ],
   "source": [
    "# Q5\n",
    "\n",
    "import numpy as np\n",
    "x = np.arange(14).reshape((2,7))\n",
    "print(x)\n",
    "r1 =  np.median(x)\n",
    "print(\"\\nMedian of said array:\")\n",
    "print(r1)"
   ]
  },
  {
   "cell_type": "code",
   "execution_count": 31,
   "id": "2d0004d2",
   "metadata": {
    "ExecuteTime": {
     "end_time": "2022-10-08T22:47:21.735027Z",
     "start_time": "2022-10-08T22:47:21.533770Z"
    }
   },
   "outputs": [
    {
     "name": "stdout",
     "output_type": "stream",
     "text": [
      "[0 1 2 3 4 5]\n",
      "\n",
      "Mean:  2.5\n",
      "\n",
      "std:  1.707825127659933\n",
      "\n",
      "variance:  2.9166666666666665\n"
     ]
    }
   ],
   "source": [
    "# Q7\n",
    "\n",
    "import numpy as np\n",
    "x = np.arange(6)\n",
    "print(x)\n",
    "r1 = np.mean(x)\n",
    "print(\"\\nMean: \", r1)\n",
    "r1 = np.std(x)\n",
    "print(\"\\nstd: \", r1)\n",
    "r1= np.var(x)\n",
    "print(\"\\nvariance: \", r1)"
   ]
  },
  {
   "cell_type": "code",
   "execution_count": 35,
   "id": "c23bdec0",
   "metadata": {
    "ExecuteTime": {
     "end_time": "2022-10-08T22:51:18.110409Z",
     "start_time": "2022-10-08T22:51:18.098417Z"
    }
   },
   "outputs": [
    {
     "name": "stdout",
     "output_type": "stream",
     "text": [
      "[0 1 2]\n",
      "[2 1 0]\n",
      "\n",
      "Covariance matrix of the said arrays:\n",
      " [[ 1. -1.]\n",
      " [-1.  1.]]\n"
     ]
    }
   ],
   "source": [
    "# Q8\n",
    "\n",
    "import numpy as np\n",
    "x = np.array([0, 1, 2])\n",
    "y = np.array([2, 1, 0])\n",
    "print(x)\n",
    "print(y)\n",
    "print(\"\\nCovariance matrix of the said arrays:\\n\",np.cov(x, y))"
   ]
  },
  {
   "cell_type": "code",
   "execution_count": 34,
   "id": "b0ef50be",
   "metadata": {
    "ExecuteTime": {
     "end_time": "2022-10-08T22:50:53.722301Z",
     "start_time": "2022-10-08T22:50:53.702312Z"
    }
   },
   "outputs": [
    {
     "name": "stdout",
     "output_type": "stream",
     "text": [
      "[0 1 3]\n",
      "[2 4 5]\n",
      "\n",
      "Cross-correlation of the said arrays:\n",
      " [[2.33333333 2.16666667]\n",
      " [2.16666667 2.33333333]]\n"
     ]
    }
   ],
   "source": [
    "# Q9\n",
    "\n",
    "import numpy as np\n",
    "x = np.array([0, 1, 3])\n",
    "y = np.array([2, 4, 5])\n",
    "print(x)\n",
    "print(y)\n",
    "print(\"\\nCross-correlation of the said arrays:\\n\",np.cov(x, y))"
   ]
  },
  {
   "cell_type": "code",
   "execution_count": 36,
   "id": "b37c4367",
   "metadata": {
    "ExecuteTime": {
     "end_time": "2022-10-08T22:52:30.525686Z",
     "start_time": "2022-10-08T22:52:30.366339Z"
    }
   },
   "outputs": [
    {
     "name": "stdout",
     "output_type": "stream",
     "text": [
      "[0 1 3]\n",
      "[2 4 5]\n",
      "\n",
      "Pearson product-moment correlation coefficients of the said arrays:\n",
      " [[1.         0.92857143]\n",
      " [0.92857143 1.        ]]\n"
     ]
    }
   ],
   "source": [
    "# Q10\n",
    "\n",
    "import numpy as np\n",
    "x = np.array([0, 1, 3])\n",
    "y = np.array([2, 4, 5])\n",
    "print(x)\n",
    "print(y)\n",
    "print(\"\\nPearson product-moment correlation coefficients of the said arrays:\\n\",np.corrcoef(x, y))"
   ]
  },
  {
   "cell_type": "code",
   "execution_count": 37,
   "id": "04f0d15b",
   "metadata": {
    "ExecuteTime": {
     "end_time": "2022-10-08T22:56:38.186301Z",
     "start_time": "2022-10-08T22:56:37.899752Z"
    }
   },
   "outputs": [
    {
     "name": "stdout",
     "output_type": "stream",
     "text": [
      "March, 2017\n",
      "['2017-03-01' '2017-03-02' '2017-03-03' '2017-03-04' '2017-03-05'\n",
      " '2017-03-06' '2017-03-07' '2017-03-08' '2017-03-09' '2017-03-10'\n",
      " '2017-03-11' '2017-03-12' '2017-03-13' '2017-03-14' '2017-03-15'\n",
      " '2017-03-16' '2017-03-17' '2017-03-18' '2017-03-19' '2017-03-20'\n",
      " '2017-03-21' '2017-03-22' '2017-03-23' '2017-03-24' '2017-03-25'\n",
      " '2017-03-26' '2017-03-27' '2017-03-28' '2017-03-29' '2017-03-30'\n",
      " '2017-03-31']\n"
     ]
    }
   ],
   "source": [
    "# NumPy DateTime\n",
    "# Q1\n",
    "\n",
    "import numpy as np\n",
    "print(\"March, 2017\")\n",
    "print(np.arange('2017-03', '2017-04', dtype='datetime64[D]'))\n",
    "\n",
    "\n"
   ]
  },
  {
   "cell_type": "code",
   "execution_count": 38,
   "id": "027417b2",
   "metadata": {
    "ExecuteTime": {
     "end_time": "2022-10-08T23:01:24.666714Z",
     "start_time": "2022-10-08T23:01:24.445686Z"
    }
   },
   "outputs": [
    {
     "name": "stdout",
     "output_type": "stream",
     "text": [
      "Yestraday:  2022-10-08\n",
      "Today:  2022-10-09\n",
      "Tomorrow:  2022-10-10\n"
     ]
    }
   ],
   "source": [
    "# Q2\n",
    "\n",
    "import numpy as np\n",
    "yesterday = np.datetime64('today', 'D') - np.timedelta64(1, 'D')\n",
    "print(\"Yestraday: \",yesterday)\n",
    "today     = np.datetime64('today', 'D')\n",
    "print(\"Today: \",today)\n",
    "tomorrow  = np.datetime64('today', 'D') + np.timedelta64(1, 'D')\n",
    "print(\"Tomorrow: \",tomorrow)"
   ]
  },
  {
   "cell_type": "code",
   "execution_count": 40,
   "id": "89b79ffb",
   "metadata": {
    "ExecuteTime": {
     "end_time": "2022-10-08T23:05:32.660099Z",
     "start_time": "2022-10-08T23:05:32.623120Z"
    }
   },
   "outputs": [
    {
     "name": "stdout",
     "output_type": "stream",
     "text": [
      "Number of days, February, 2020: \n",
      "29 days\n",
      "Number of days, February, 2021: \n",
      "28 days\n",
      "Number of days, February, 2022: \n",
      "28 days\n"
     ]
    }
   ],
   "source": [
    "# Q3\n",
    "\n",
    "import numpy as np\n",
    "print(\"Number of days, February, 2020: \")\n",
    "print(np.datetime64('2020-03-01') - np.datetime64('2020-02-01'))\n",
    "print(\"Number of days, February, 2021: \")\n",
    "print(np.datetime64('2021-03-01') - np.datetime64('2021-02-01'))\n",
    "print(\"Number of days, February, 2022: \")\n",
    "print(np.datetime64('2022-03-01') - np.datetime64('2022-02-01'))"
   ]
  },
  {
   "cell_type": "code",
   "execution_count": 46,
   "id": "2ff2c565",
   "metadata": {
    "ExecuteTime": {
     "end_time": "2022-10-08T23:09:02.706666Z",
     "start_time": "2022-10-08T23:09:02.696673Z"
    }
   },
   "outputs": [
    {
     "name": "stdout",
     "output_type": "stream",
     "text": [
      "First Monday in May 2023:\n",
      "2023-05-01\n"
     ]
    }
   ],
   "source": [
    "# Q5\n",
    "\n",
    "import numpy as np\n",
    "print(\"First Monday in May 2023:\")\n",
    "print(np.busday_offset('2023-05', 0, roll='forward', weekmask='Mon'))\n"
   ]
  },
  {
   "cell_type": "code",
   "execution_count": 47,
   "id": "222d91a0",
   "metadata": {
    "ExecuteTime": {
     "end_time": "2022-10-08T23:10:34.410794Z",
     "start_time": "2022-10-08T23:10:34.377814Z"
    }
   },
   "outputs": [
    {
     "name": "stdout",
     "output_type": "stream",
     "text": [
      "Number of weekdays in March 2023:\n",
      "23\n"
     ]
    }
   ],
   "source": [
    "# Q6\n",
    "\n",
    "import numpy as np\n",
    "print(\"Number of weekdays in March 2023:\")\n",
    "print(np.busday_count('2023-03', '2023-04'))"
   ]
  },
  {
   "cell_type": "code",
   "execution_count": 1,
   "id": "fa282967",
   "metadata": {
    "ExecuteTime": {
     "end_time": "2022-10-09T13:27:03.961924Z",
     "start_time": "2022-10-09T13:27:00.119675Z"
    }
   },
   "outputs": [
    {
     "name": "stdout",
     "output_type": "stream",
     "text": [
      "['Python' 'PHP']\n",
      "[' Java' ' C++']\n",
      "new array:\n",
      "['Python Java' 'PHP C++']\n"
     ]
    },
    {
     "name": "stderr",
     "output_type": "stream",
     "text": [
      "C:\\Users\\fifa\\AppData\\Local\\Temp\\ipykernel_10520\\3140250063.py:5: DeprecationWarning: `np.str` is a deprecated alias for the builtin `str`. To silence this warning, use `str` by itself. Doing this will not modify any behavior and is safe. If you specifically wanted the numpy scalar type, use `np.str_` here.\n",
      "Deprecated in NumPy 1.20; for more details and guidance: https://numpy.org/devdocs/release/1.20.0-notes.html#deprecations\n",
      "  x1 = np.array(['Python', 'PHP'], dtype=np.str)\n",
      "C:\\Users\\fifa\\AppData\\Local\\Temp\\ipykernel_10520\\3140250063.py:6: DeprecationWarning: `np.str` is a deprecated alias for the builtin `str`. To silence this warning, use `str` by itself. Doing this will not modify any behavior and is safe. If you specifically wanted the numpy scalar type, use `np.str_` here.\n",
      "Deprecated in NumPy 1.20; for more details and guidance: https://numpy.org/devdocs/release/1.20.0-notes.html#deprecations\n",
      "  x2 = np.array([' Java', ' C++'], dtype=np.str)\n"
     ]
    }
   ],
   "source": [
    "# NumPy String\n",
    "# Q1\n",
    "\n",
    "import numpy as np\n",
    "x1 = np.array(['Python', 'PHP'], dtype=np.str)\n",
    "x2 = np.array([' Java', ' C++'], dtype=np.str)\n",
    "print(x1)\n",
    "print(x2)\n",
    "new_array = np.char.add(x1, x2)\n",
    "print(\"new array:\")\n",
    "print(new_array)\n",
    "\n"
   ]
  },
  {
   "cell_type": "code",
   "execution_count": 2,
   "id": "98e134d7",
   "metadata": {
    "ExecuteTime": {
     "end_time": "2022-10-09T13:34:21.887666Z",
     "start_time": "2022-10-09T13:34:21.862680Z"
    }
   },
   "outputs": [
    {
     "name": "stdout",
     "output_type": "stream",
     "text": [
      "['Python' 'PHP' 'Java' 'C++']\n",
      "New array:\n",
      "['PythonPythonPython' 'PHPPHPPHP' 'JavaJavaJava' 'C++C++C++']\n"
     ]
    },
    {
     "name": "stderr",
     "output_type": "stream",
     "text": [
      "C:\\Users\\fifa\\AppData\\Local\\Temp\\ipykernel_10520\\84001888.py:4: DeprecationWarning: `np.str` is a deprecated alias for the builtin `str`. To silence this warning, use `str` by itself. Doing this will not modify any behavior and is safe. If you specifically wanted the numpy scalar type, use `np.str_` here.\n",
      "Deprecated in NumPy 1.20; for more details and guidance: https://numpy.org/devdocs/release/1.20.0-notes.html#deprecations\n",
      "  x1 = np.array(['Python', 'PHP', 'Java', 'C++'], dtype=np.str)\n"
     ]
    }
   ],
   "source": [
    "# Q2\n",
    "\n",
    "import numpy as np\n",
    "x1 = np.array(['Python', 'PHP', 'Java', 'C++'], dtype=np.str)\n",
    "print(x1)\n",
    "new_array = np.char.multiply(x1, 3)\n",
    "print(\"New array:\")\n",
    "print(new_array)"
   ]
  },
  {
   "cell_type": "code",
   "execution_count": 4,
   "id": "be377d2d",
   "metadata": {
    "ExecuteTime": {
     "end_time": "2022-10-09T14:13:26.430272Z",
     "start_time": "2022-10-09T14:13:26.403287Z"
    }
   },
   "outputs": [
    {
     "name": "stdout",
     "output_type": "stream",
     "text": [
      "['python exercises' 'PHP' 'java' 'C++']\n",
      "['p y t h o n   e x e r c i s e s' 'P H P' 'j a v a' 'C + +']\n"
     ]
    },
    {
     "name": "stderr",
     "output_type": "stream",
     "text": [
      "C:\\Users\\fifa\\AppData\\Local\\Temp\\ipykernel_10520\\3145185497.py:4: DeprecationWarning: `np.str` is a deprecated alias for the builtin `str`. To silence this warning, use `str` by itself. Doing this will not modify any behavior and is safe. If you specifically wanted the numpy scalar type, use `np.str_` here.\n",
      "Deprecated in NumPy 1.20; for more details and guidance: https://numpy.org/devdocs/release/1.20.0-notes.html#deprecations\n",
      "  x = np.array(['python exercises', 'PHP', 'java', 'C++'], dtype=np.str)\n"
     ]
    }
   ],
   "source": [
    "# Q5\n",
    "\n",
    "import numpy as np\n",
    "x = np.array(['python exercises', 'PHP', 'java', 'C++'], dtype=np.str)\n",
    "print(x)\n",
    "r = np.char.join(\" \", x)\n",
    "print(r)\n"
   ]
  },
  {
   "cell_type": "code",
   "execution_count": 5,
   "id": "71498579",
   "metadata": {
    "ExecuteTime": {
     "end_time": "2022-10-09T14:17:34.904347Z",
     "start_time": "2022-10-09T14:17:34.401103Z"
    }
   },
   "outputs": [
    {
     "name": "stderr",
     "output_type": "stream",
     "text": [
      "C:\\Users\\fifa\\AppData\\Local\\Temp\\ipykernel_10520\\3669773589.py:4: DeprecationWarning: `np.str` is a deprecated alias for the builtin `str`. To silence this warning, use `str` by itself. Doing this will not modify any behavior and is safe. If you specifically wanted the numpy scalar type, use `np.str_` here.\n",
      "Deprecated in NumPy 1.20; for more details and guidance: https://numpy.org/devdocs/release/1.20.0-notes.html#deprecations\n",
      "  x = np.array(['python exercises', 'PHP', 'java', 'C++'], dtype=np.str)\n"
     ]
    },
    {
     "name": "stdout",
     "output_type": "stream",
     "text": [
      "['python exercises' 'PHP' 'java' 'C++']\n",
      "\n",
      "encoded = [b'\\x97\\xa8\\xa3\\x88\\x96\\x95@\\x85\\xa7\\x85\\x99\\x83\\x89\\xa2\\x85\\xa2'\n",
      " b'\\xd7\\xc8\\xd7' b'\\x91\\x81\\xa5\\x81' b'\\xc3NN']\n",
      "decoded = ['python exercises' 'PHP' 'java' 'C++']\n"
     ]
    }
   ],
   "source": [
    "# Q6\n",
    "\n",
    "import numpy as np\n",
    "x = np.array(['python exercises', 'PHP', 'java', 'C++'], dtype=np.str)\n",
    "print(x)\n",
    "encoded_char = np.char.encode(x, 'cp500')\n",
    "decoded_char = np.char.decode(encoded_char,'cp500')\n",
    "print(\"\\nencoded =\", encoded_char)\n",
    "print(\"decoded =\", decoded_char)"
   ]
  },
  {
   "cell_type": "code",
   "execution_count": 6,
   "id": "c7c1c1ce",
   "metadata": {
    "ExecuteTime": {
     "end_time": "2022-10-09T14:23:56.822508Z",
     "start_time": "2022-10-09T14:23:56.524134Z"
    }
   },
   "outputs": [
    {
     "name": "stdout",
     "output_type": "stream",
     "text": [
      "Original Array:\n",
      "[' python exercises ' ' PHP  ' ' java  ' '  C++']\n",
      "\n",
      "Remove the leading and trailing whitespaces:  ['python exercises' 'PHP' 'java' 'C++']\n"
     ]
    },
    {
     "name": "stderr",
     "output_type": "stream",
     "text": [
      "C:\\Users\\fifa\\AppData\\Local\\Temp\\ipykernel_10520\\2904229458.py:4: DeprecationWarning: `np.str` is a deprecated alias for the builtin `str`. To silence this warning, use `str` by itself. Doing this will not modify any behavior and is safe. If you specifically wanted the numpy scalar type, use `np.str_` here.\n",
      "Deprecated in NumPy 1.20; for more details and guidance: https://numpy.org/devdocs/release/1.20.0-notes.html#deprecations\n",
      "  x = np.array([' python exercises ', ' PHP  ', ' java  ', '  C++'], dtype=np.str)\n"
     ]
    }
   ],
   "source": [
    "# Q7\n",
    "\n",
    "import numpy as np\n",
    "x = np.array([' python exercises ', ' PHP  ', ' java  ', '  C++'], dtype=np.str)\n",
    "print(\"Original Array:\")\n",
    "print(x)\n",
    "stripped = np.char.strip(x)\n",
    "print(\"\\nRemove the leading and trailing whitespaces: \", stripped)"
   ]
  },
  {
   "cell_type": "code",
   "execution_count": 7,
   "id": "fe09499b",
   "metadata": {
    "ExecuteTime": {
     "end_time": "2022-10-09T14:25:01.235143Z",
     "start_time": "2022-10-09T14:25:00.301466Z"
    }
   },
   "outputs": [
    {
     "name": "stdout",
     "output_type": "stream",
     "text": [
      "Original Array:\n",
      "[' python exercises ' ' PHP  ' ' java  ' '  C++']\n",
      "\n",
      "Remove the leading whitespaces :  ['python exercises ' 'PHP  ' 'java  ' 'C++']\n"
     ]
    },
    {
     "name": "stderr",
     "output_type": "stream",
     "text": [
      "C:\\Users\\fifa\\AppData\\Local\\Temp\\ipykernel_10520\\644099296.py:4: DeprecationWarning: `np.str` is a deprecated alias for the builtin `str`. To silence this warning, use `str` by itself. Doing this will not modify any behavior and is safe. If you specifically wanted the numpy scalar type, use `np.str_` here.\n",
      "Deprecated in NumPy 1.20; for more details and guidance: https://numpy.org/devdocs/release/1.20.0-notes.html#deprecations\n",
      "  x = np.array([' python exercises ', ' PHP  ', ' java  ', '  C++'], dtype=np.str)\n"
     ]
    }
   ],
   "source": [
    "# Q8\n",
    "\n",
    "import numpy as np\n",
    "x = np.array([' python exercises ', ' PHP  ', ' java  ', '  C++'], dtype=np.str)\n",
    "print(\"Original Array:\")\n",
    "print(x)\n",
    "lstripped_char = np.char.lstrip(x)\n",
    "print(\"\\nRemove the leading whitespaces : \", lstripped_char)"
   ]
  },
  {
   "cell_type": "code",
   "execution_count": 8,
   "id": "5b839f01",
   "metadata": {
    "ExecuteTime": {
     "end_time": "2022-10-09T14:25:56.173321Z",
     "start_time": "2022-10-09T14:25:56.139343Z"
    }
   },
   "outputs": [
    {
     "name": "stdout",
     "output_type": "stream",
     "text": [
      "Original Array:\n",
      "[' python exercises ' ' PHP  ' ' java  ' '  C++']\n",
      "\n",
      "Remove the trailing whitespaces :  [' python exercises' ' PHP' ' java' '  C++']\n"
     ]
    },
    {
     "name": "stderr",
     "output_type": "stream",
     "text": [
      "C:\\Users\\fifa\\AppData\\Local\\Temp\\ipykernel_10520\\1405908604.py:4: DeprecationWarning: `np.str` is a deprecated alias for the builtin `str`. To silence this warning, use `str` by itself. Doing this will not modify any behavior and is safe. If you specifically wanted the numpy scalar type, use `np.str_` here.\n",
      "Deprecated in NumPy 1.20; for more details and guidance: https://numpy.org/devdocs/release/1.20.0-notes.html#deprecations\n",
      "  x = np.array([' python exercises ', ' PHP  ', ' java  ', '  C++'], dtype=np.str)\n"
     ]
    }
   ],
   "source": [
    "# Q9\n",
    "\n",
    "import numpy as np\n",
    "x = np.array([' python exercises ', ' PHP  ', ' java  ', '  C++'], dtype=np.str)\n",
    "print(\"Original Array:\")\n",
    "print(x)\n",
    "rstripped_char = np.char.rstrip(x)\n",
    "print(\"\\nRemove the trailing whitespaces : \", rstripped_char)\n"
   ]
  },
  {
   "cell_type": "code",
   "execution_count": 9,
   "id": "b420d55f",
   "metadata": {
    "ExecuteTime": {
     "end_time": "2022-10-09T14:27:14.718334Z",
     "start_time": "2022-10-09T14:27:14.607358Z"
    }
   },
   "outputs": [
    {
     "name": "stdout",
     "output_type": "stream",
     "text": [
      "Original Array:\n",
      "['Python PHP Java C++']\n",
      "\n",
      "Split the element of the said array with spaces: \n",
      "[list(['Python', 'PHP', 'Java', 'C++'])]\n"
     ]
    },
    {
     "name": "stderr",
     "output_type": "stream",
     "text": [
      "C:\\Users\\fifa\\AppData\\Local\\Temp\\ipykernel_10520\\364596609.py:4: DeprecationWarning: `np.str` is a deprecated alias for the builtin `str`. To silence this warning, use `str` by itself. Doing this will not modify any behavior and is safe. If you specifically wanted the numpy scalar type, use `np.str_` here.\n",
      "Deprecated in NumPy 1.20; for more details and guidance: https://numpy.org/devdocs/release/1.20.0-notes.html#deprecations\n",
      "  x = np.array(['Python PHP Java C++'], dtype=np.str)\n"
     ]
    }
   ],
   "source": [
    "# Q10\n",
    "\n",
    "import numpy as np\n",
    "x = np.array(['Python PHP Java C++'], dtype=np.str)\n",
    "print(\"Original Array:\")\n",
    "print(x)\n",
    "r = np.char.split(x)\n",
    "print(\"\\nSplit the element of the said array with spaces: \")\n",
    "print(r)"
   ]
  },
  {
   "cell_type": "code",
   "execution_count": null,
   "id": "9264f946",
   "metadata": {},
   "outputs": [],
   "source": []
  }
 ],
 "metadata": {
  "kernelspec": {
   "display_name": "Python 3 (ipykernel)",
   "language": "python",
   "name": "python3"
  },
  "language_info": {
   "codemirror_mode": {
    "name": "ipython",
    "version": 3
   },
   "file_extension": ".py",
   "mimetype": "text/x-python",
   "name": "python",
   "nbconvert_exporter": "python",
   "pygments_lexer": "ipython3",
   "version": "3.9.12"
  }
 },
 "nbformat": 4,
 "nbformat_minor": 5
}
